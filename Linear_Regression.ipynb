{
  "nbformat": 4,
  "nbformat_minor": 0,
  "metadata": {
    "colab": {
      "name": "Linear_Regression.ipynb",
      "provenance": [],
      "collapsed_sections": [
        "yILvpzZOgHVW"
      ]
    },
    "language_info": {
      "codemirror_mode": {
        "name": "ipython",
        "version": 3
      },
      "file_extension": ".py",
      "mimetype": "text/x-python",
      "name": "python",
      "nbconvert_exporter": "python",
      "pygments_lexer": "ipython3",
      "version": "3.6.8"
    },
    "kernelspec": {
      "display_name": "Python 3",
      "language": "python",
      "name": "python3"
    }
  },
  "cells": [
    {
      "cell_type": "markdown",
      "metadata": {
        "id": "TiM6gYg0nhkY"
      },
      "source": [
        "<font color=\"#de3023\"><h1><b>REMINDER: MAKE A COPY OF THIS NOTEBOOK, DO NOT EDIT</b></h1></font>"
      ]
    },
    {
      "cell_type": "markdown",
      "metadata": {
        "id": "UZnEnGz8aNi6"
      },
      "source": [
        "![](https://stimg.cardekho.com/pwa/img/CarDekho-Logo.svg)"
      ]
    },
    {
      "cell_type": "markdown",
      "metadata": {
        "id": "zUo9E0C_hdMI"
      },
      "source": [
        "# Introduction to Linear Regression: Buying the Right Car 🚗\n"
      ]
    },
    {
      "cell_type": "markdown",
      "metadata": {
        "id": "h0qdbJsIZzTC"
      },
      "source": [
        "## Intro\n"
      ]
    },
    {
      "cell_type": "markdown",
      "metadata": {
        "id": "INvuUkKxZ2H1"
      },
      "source": [
        "Imagine this...\n",
        "\n",
        "You've been working for a year as a data expert and finally save enough money to buy a car. Being a thrifty data expert, you want to get the best bang for your buck. \n",
        "\n",
        "Imagine that you also have data from the car website [CarDekho](https://www.cardekho.com/), which has information on a wide variety of cars, including their price. You realize that you can use that data to make sure you get a good deal on a new car. In particular, you can figure out exactly how much you should pay for a specific type of car. This can be especially helpful if you run into a tricky car salesperson! \n",
        "\n",
        "But the question is how can you use the data to figure out how much you should pay? \n",
        "\n",
        "You can use Linear Regression! \n",
        "\n",
        "Linear Regression is a method for discovering the relationship between two variables in the dataset, such as price of the car and the year it was made. Data Scientists rely on this method for solving a wide range of problems, especially when it comes to prediction. \n",
        "\n",
        "Let's get started! \n",
        "\n",
        "**In this notebook, we'll:**\n",
        "- Fetch and explore a dataset of cars\n",
        "- Visualize our dataset with graphs\n",
        "- Use linear regression to make predictions\n",
        "- Optional: Use multiple linear regression to make better predictions\n",
        "- Challenge: Discover the best-value cars!\n"
      ]
    },
    {
      "cell_type": "markdown",
      "metadata": {
        "id": "d-zYd2aI8Lt4"
      },
      "source": [
        "## Fetching the Data \n",
        "\n",
        "\n"
      ]
    },
    {
      "cell_type": "markdown",
      "metadata": {
        "id": "jaxKGdjzGj9e"
      },
      "source": [
        "We will use a very common data science library called Pandas to load the dataset into this notebook. Using pandas we can read our datafile (cardata.csv) with the line below. Our data will then be assigned and stored under the variable car_data.  \n"
      ]
    },
    {
      "cell_type": "code",
      "metadata": {
        "id": "rPGdfBzdvxwD",
        "colab": {
          "base_uri": "https://localhost:8080/"
        },
        "outputId": "c7204ecb-8f14-4905-f384-a9434922e59b"
      },
      "source": [
        "#@title Run this to import libraries and your data! { display-mode: \"form\" }\n",
        "#Please run `pip install pandas` in the terminal if the below doesn't work for you\n",
        "import pandas as pd   # Great for tables (google spreadsheets, microsoft excel, csv). \n",
        "import os # Good for navigating your computer's files \n",
        "import gdown\n",
        "\n",
        "# gdown.download('https://drive.google.com/uc?id=1nDjHLBMBZ3THSck1Ah3XyhgtRHIBT2Ec', 'dekho.csv', True)\n",
        "\n",
        "from google.cloud import storage\n",
        "\n",
        "def download_public_file(bucket_name, source_blob_name, destination_file_name):\n",
        "    \"\"\"Downloads a public blob from the bucket.\"\"\"\n",
        "    # bucket_name = \"your-bucket-name\"\n",
        "    # source_blob_name = \"storage-object-name\"\n",
        "    # destination_file_name = \"local/path/to/file\"\n",
        "\n",
        "    storage_client = storage.Client.create_anonymous_client()\n",
        "\n",
        "    bucket = storage_client.bucket(bucket_name)\n",
        "    blob = bucket.blob(source_blob_name)\n",
        "    blob.download_to_filename(destination_file_name)\n",
        "\n",
        "    print(\n",
        "        \"Downloaded public blob {} from bucket {} to {}.\".format(\n",
        "            source_blob_name, bucket.name, destination_file_name\n",
        "        )\n",
        "    )\n",
        "\n",
        "download_public_file('inspirit-ai-data-bucket-1','Data/AI Scholars/Sessions 1 - 5/Session 2a - Linear Regression/car_dekho.csv','dekho.csv')"
      ],
      "execution_count": null,
      "outputs": [
        {
          "output_type": "stream",
          "text": [
            "Downloaded public blob Data/AI Scholars/Sessions 1 - 5/Session 2a - Linear Regression/car_dekho.csv from bucket inspirit-ai-data-bucket-1 to dekho.csv.\n"
          ],
          "name": "stdout"
        }
      ]
    },
    {
      "cell_type": "code",
      "metadata": {
        "id": "mbwTcjiE4FGx"
      },
      "source": [
        "# read our data in using 'pd.read_csv('file')'\n",
        "data_path  = 'dekho.csv'\n",
        "car_data = pd.read_csv(data_path)"
      ],
      "execution_count": null,
      "outputs": []
    },
    {
      "cell_type": "markdown",
      "metadata": {
        "id": "v5GSzhiPxP61"
      },
      "source": [
        "##Exploring the Data  \n",
        "\n",
        "\n"
      ]
    },
    {
      "cell_type": "markdown",
      "metadata": {
        "id": "MyhuZhuhGquy"
      },
      "source": [
        "Great! Now that we have the data from CarDekho we can start exploring it. Running the cell below will output the first five rows in the data. Each row corresponds to a specific car on sale and each column details information about that car. See if you can already spot any pieces of information that might help you find your perfect car. \n"
      ]
    },
    {
      "cell_type": "code",
      "metadata": {
        "id": "l6Cu2xokskC9",
        "colab": {
          "base_uri": "https://localhost:8080/",
          "height": 202
        },
        "outputId": "e7d5f42c-f2a1-42d1-94b0-29db656f481b"
      },
      "source": [
        "# let's look at our 'dataframe'. Dataframes are just like google or excel spreadsheets. \n",
        "# use the 'head' method to show the first five rows of the table as well as their names. \n",
        "car_data.head() "
      ],
      "execution_count": null,
      "outputs": [
        {
          "output_type": "execute_result",
          "data": {
            "text/html": [
              "<div>\n",
              "<style scoped>\n",
              "    .dataframe tbody tr th:only-of-type {\n",
              "        vertical-align: middle;\n",
              "    }\n",
              "\n",
              "    .dataframe tbody tr th {\n",
              "        vertical-align: top;\n",
              "    }\n",
              "\n",
              "    .dataframe thead th {\n",
              "        text-align: right;\n",
              "    }\n",
              "</style>\n",
              "<table border=\"1\" class=\"dataframe\">\n",
              "  <thead>\n",
              "    <tr style=\"text-align: right;\">\n",
              "      <th></th>\n",
              "      <th>Car_Name</th>\n",
              "      <th>Age</th>\n",
              "      <th>Selling_Price</th>\n",
              "      <th>Kms_Driven</th>\n",
              "      <th>Fuel_Type</th>\n",
              "      <th>Seller_Type</th>\n",
              "      <th>Transmission</th>\n",
              "    </tr>\n",
              "  </thead>\n",
              "  <tbody>\n",
              "    <tr>\n",
              "      <th>0</th>\n",
              "      <td>ritz</td>\n",
              "      <td>5</td>\n",
              "      <td>3.35</td>\n",
              "      <td>27000</td>\n",
              "      <td>Petrol</td>\n",
              "      <td>Dealer</td>\n",
              "      <td>Manual</td>\n",
              "    </tr>\n",
              "    <tr>\n",
              "      <th>1</th>\n",
              "      <td>sx4</td>\n",
              "      <td>6</td>\n",
              "      <td>4.75</td>\n",
              "      <td>43000</td>\n",
              "      <td>Diesel</td>\n",
              "      <td>Dealer</td>\n",
              "      <td>Manual</td>\n",
              "    </tr>\n",
              "    <tr>\n",
              "      <th>2</th>\n",
              "      <td>ciaz</td>\n",
              "      <td>2</td>\n",
              "      <td>7.25</td>\n",
              "      <td>6900</td>\n",
              "      <td>Petrol</td>\n",
              "      <td>Dealer</td>\n",
              "      <td>Manual</td>\n",
              "    </tr>\n",
              "    <tr>\n",
              "      <th>3</th>\n",
              "      <td>wagon r</td>\n",
              "      <td>8</td>\n",
              "      <td>2.85</td>\n",
              "      <td>5200</td>\n",
              "      <td>Petrol</td>\n",
              "      <td>Dealer</td>\n",
              "      <td>Manual</td>\n",
              "    </tr>\n",
              "    <tr>\n",
              "      <th>4</th>\n",
              "      <td>swift</td>\n",
              "      <td>5</td>\n",
              "      <td>4.60</td>\n",
              "      <td>42450</td>\n",
              "      <td>Diesel</td>\n",
              "      <td>Dealer</td>\n",
              "      <td>Manual</td>\n",
              "    </tr>\n",
              "  </tbody>\n",
              "</table>\n",
              "</div>"
            ],
            "text/plain": [
              "  Car_Name  Age  Selling_Price  Kms_Driven Fuel_Type Seller_Type Transmission\n",
              "0     ritz    5           3.35       27000    Petrol      Dealer       Manual\n",
              "1      sx4    6           4.75       43000    Diesel      Dealer       Manual\n",
              "2     ciaz    2           7.25        6900    Petrol      Dealer       Manual\n",
              "3  wagon r    8           2.85        5200    Petrol      Dealer       Manual\n",
              "4    swift    5           4.60       42450    Diesel      Dealer       Manual"
            ]
          },
          "metadata": {
            "tags": []
          },
          "execution_count": 7
        }
      ]
    },
    {
      "cell_type": "markdown",
      "metadata": {
        "id": "epUu2iXvoGSh"
      },
      "source": [
        "**You'll probably wonder: what are the units of selling price? What does 3.35 mean?! Selling price is actually in lakhs**"
      ]
    },
    {
      "cell_type": "markdown",
      "metadata": {
        "id": "VFDloI47yp4Q"
      },
      "source": [
        "Here is a visual representation of the dataset above. ![carcharts.png](https://i.postimg.cc/bNyjtBFT/Screen-Shot-2019-06-06-at-8-04-46-PM.png)\n"
      ]
    },
    {
      "cell_type": "markdown",
      "metadata": {
        "id": "xffj1ubcOrjW"
      },
      "source": [
        "### What do the columns in the data table represent?"
      ]
    },
    {
      "cell_type": "markdown",
      "metadata": {
        "id": "lxit_o6Lz2C_"
      },
      "source": [
        "Before diving deeper into the data we need to know what kind of information we have on each car. This is exactly what the columns in the data table are telling us. \n",
        "\n",
        "You can think about these columns as being the raw ingredients of any future model we build. A good cook knows about every ingredient they are using. Likewise, we need to know about each variable (column) in our dataset. Below are explanations of each one. \n",
        "\n",
        "* Car_Name: This column should be filled with the name of the car.\n",
        "\n",
        "* Age: This column should be filled with the number of years since the car was made. \n",
        "\n",
        "* Selling_Price: This column should be filled with the price the owner wants to sell the car at.\n",
        "\n",
        "* Kms_Driven: This is the distance completed by the car in km.\n",
        "\n",
        "* Fuel_Type: Fuel type of the car.\n",
        "\n",
        "* Seller_Type: Defines whether the seller is a dealer or an individual.\n",
        "\n",
        "* Transmission: Defines whether the car is manual or automatic.\n",
        "\n"
      ]
    },
    {
      "cell_type": "markdown",
      "metadata": {
        "id": "zm2lRfNQQLrc"
      },
      "source": [
        "Using code we can select columns in our data table to inspect them more closely. In the cell below we select the Fuel Type column from our car_data variable (which is a dataframe) and then we output the first five rows using .head()"
      ]
    },
    {
      "cell_type": "code",
      "metadata": {
        "id": "EHTwpnHHQnxE",
        "colab": {
          "base_uri": "https://localhost:8080/",
          "height": 202
        },
        "outputId": "84cf9fed-a474-494d-b72a-0bac9ce598a8"
      },
      "source": [
        "car_data[['Fuel_Type']].head()"
      ],
      "execution_count": null,
      "outputs": [
        {
          "output_type": "execute_result",
          "data": {
            "text/html": [
              "<div>\n",
              "<style scoped>\n",
              "    .dataframe tbody tr th:only-of-type {\n",
              "        vertical-align: middle;\n",
              "    }\n",
              "\n",
              "    .dataframe tbody tr th {\n",
              "        vertical-align: top;\n",
              "    }\n",
              "\n",
              "    .dataframe thead th {\n",
              "        text-align: right;\n",
              "    }\n",
              "</style>\n",
              "<table border=\"1\" class=\"dataframe\">\n",
              "  <thead>\n",
              "    <tr style=\"text-align: right;\">\n",
              "      <th></th>\n",
              "      <th>Fuel_Type</th>\n",
              "    </tr>\n",
              "  </thead>\n",
              "  <tbody>\n",
              "    <tr>\n",
              "      <th>0</th>\n",
              "      <td>Petrol</td>\n",
              "    </tr>\n",
              "    <tr>\n",
              "      <th>1</th>\n",
              "      <td>Diesel</td>\n",
              "    </tr>\n",
              "    <tr>\n",
              "      <th>2</th>\n",
              "      <td>Petrol</td>\n",
              "    </tr>\n",
              "    <tr>\n",
              "      <th>3</th>\n",
              "      <td>Petrol</td>\n",
              "    </tr>\n",
              "    <tr>\n",
              "      <th>4</th>\n",
              "      <td>Diesel</td>\n",
              "    </tr>\n",
              "  </tbody>\n",
              "</table>\n",
              "</div>"
            ],
            "text/plain": [
              "  Fuel_Type\n",
              "0    Petrol\n",
              "1    Diesel\n",
              "2    Petrol\n",
              "3    Petrol\n",
              "4    Diesel"
            ]
          },
          "metadata": {
            "tags": []
          },
          "execution_count": 8
        }
      ]
    },
    {
      "cell_type": "markdown",
      "metadata": {
        "id": "NIjV-9YaRXMw"
      },
      "source": [
        "###Exercise ✍️\n",
        "\n",
        "In the cell below, select the \"Car_Name\" column from our \"car_data\" dataframe and then output the first five rows. \n"
      ]
    },
    {
      "cell_type": "code",
      "metadata": {
        "id": "YBMt7iBLRymj",
        "colab": {
          "base_uri": "https://localhost:8080/",
          "height": 202
        },
        "outputId": "ef6884ed-84d7-4470-d956-9db4fa5fc7d4"
      },
      "source": [
        "car_data.head(5)"
      ],
      "execution_count": null,
      "outputs": [
        {
          "output_type": "execute_result",
          "data": {
            "text/html": [
              "<div>\n",
              "<style scoped>\n",
              "    .dataframe tbody tr th:only-of-type {\n",
              "        vertical-align: middle;\n",
              "    }\n",
              "\n",
              "    .dataframe tbody tr th {\n",
              "        vertical-align: top;\n",
              "    }\n",
              "\n",
              "    .dataframe thead th {\n",
              "        text-align: right;\n",
              "    }\n",
              "</style>\n",
              "<table border=\"1\" class=\"dataframe\">\n",
              "  <thead>\n",
              "    <tr style=\"text-align: right;\">\n",
              "      <th></th>\n",
              "      <th>Car_Name</th>\n",
              "      <th>Age</th>\n",
              "      <th>Selling_Price</th>\n",
              "      <th>Kms_Driven</th>\n",
              "      <th>Fuel_Type</th>\n",
              "      <th>Seller_Type</th>\n",
              "      <th>Transmission</th>\n",
              "    </tr>\n",
              "  </thead>\n",
              "  <tbody>\n",
              "    <tr>\n",
              "      <th>0</th>\n",
              "      <td>ritz</td>\n",
              "      <td>5</td>\n",
              "      <td>3.35</td>\n",
              "      <td>27000</td>\n",
              "      <td>Petrol</td>\n",
              "      <td>Dealer</td>\n",
              "      <td>Manual</td>\n",
              "    </tr>\n",
              "    <tr>\n",
              "      <th>1</th>\n",
              "      <td>sx4</td>\n",
              "      <td>6</td>\n",
              "      <td>4.75</td>\n",
              "      <td>43000</td>\n",
              "      <td>Diesel</td>\n",
              "      <td>Dealer</td>\n",
              "      <td>Manual</td>\n",
              "    </tr>\n",
              "    <tr>\n",
              "      <th>2</th>\n",
              "      <td>ciaz</td>\n",
              "      <td>2</td>\n",
              "      <td>7.25</td>\n",
              "      <td>6900</td>\n",
              "      <td>Petrol</td>\n",
              "      <td>Dealer</td>\n",
              "      <td>Manual</td>\n",
              "    </tr>\n",
              "    <tr>\n",
              "      <th>3</th>\n",
              "      <td>wagon r</td>\n",
              "      <td>8</td>\n",
              "      <td>2.85</td>\n",
              "      <td>5200</td>\n",
              "      <td>Petrol</td>\n",
              "      <td>Dealer</td>\n",
              "      <td>Manual</td>\n",
              "    </tr>\n",
              "    <tr>\n",
              "      <th>4</th>\n",
              "      <td>swift</td>\n",
              "      <td>5</td>\n",
              "      <td>4.60</td>\n",
              "      <td>42450</td>\n",
              "      <td>Diesel</td>\n",
              "      <td>Dealer</td>\n",
              "      <td>Manual</td>\n",
              "    </tr>\n",
              "  </tbody>\n",
              "</table>\n",
              "</div>"
            ],
            "text/plain": [
              "  Car_Name  Age  Selling_Price  Kms_Driven Fuel_Type Seller_Type Transmission\n",
              "0     ritz    5           3.35       27000    Petrol      Dealer       Manual\n",
              "1      sx4    6           4.75       43000    Diesel      Dealer       Manual\n",
              "2     ciaz    2           7.25        6900    Petrol      Dealer       Manual\n",
              "3  wagon r    8           2.85        5200    Petrol      Dealer       Manual\n",
              "4    swift    5           4.60       42450    Diesel      Dealer       Manual"
            ]
          },
          "metadata": {
            "tags": []
          },
          "execution_count": 9
        }
      ]
    },
    {
      "cell_type": "markdown",
      "metadata": {
        "id": "o0baPZC2yH4U"
      },
      "source": [
        "###  How big is our data set? \n"
      ]
    },
    {
      "cell_type": "markdown",
      "metadata": {
        "id": "sevCjN4NQOU1"
      },
      "source": [
        "Each row in the datatable represents a unique car. Using the information in the columns of the datatable you can select the car that best suits your taste.  \n",
        "\n",
        "If we only had a few cars to choose from this would be an easy task. But lets see how many rows we have in our datatable. Run the cell below to get the count of rows. \n"
      ]
    },
    {
      "cell_type": "code",
      "metadata": {
        "id": "I6ZmiHEQ08Pw",
        "colab": {
          "base_uri": "https://localhost:8080/"
        },
        "outputId": "24770eb7-c70f-4063-cf14-99ebeb8ba022"
      },
      "source": [
        "# use the 'len' method to see how many rows are in our dataframe\n",
        "print(len(car_data))"
      ],
      "execution_count": null,
      "outputs": [
        {
          "output_type": "stream",
          "text": [
            "301\n"
          ],
          "name": "stdout"
        }
      ]
    },
    {
      "cell_type": "markdown",
      "metadata": {
        "id": "soQJOp5w1iVL"
      },
      "source": [
        "That's a lot of cars to look at one by one!\n",
        "\n",
        "Imagine that you are staring at a garage full of cars not knowing which one to choose. That is exactly where we are right now. \n",
        "\n",
        "[![ryan-searle-377260-unsplash.jpg](https://i.postimg.cc/15xbXsCp/ryan-searle-377260-unsplash.jpg)](https://postimg.cc/kDcTh3d4)\n",
        "\n",
        "\n",
        "\n",
        "How can you make your task easier? Luckily as a data expert you can use visualization to organize the cars by the most important variables. \n",
        "\n"
      ]
    },
    {
      "cell_type": "markdown",
      "metadata": {
        "id": "2Fe2IlJU9P78"
      },
      "source": [
        "##  Visualizing the Data\n"
      ]
    },
    {
      "cell_type": "markdown",
      "metadata": {
        "id": "hMhUPl1RGwMr"
      },
      "source": [
        "One way to look at the data is to use a scatter plot. A scatter plot is a two-dimensional data visualization that uses dots to represent the values obtained for two different variables - one plotted along the x-axis and the other plotted along the y-axis.  \n",
        "\n",
        "A scatter plot is used to understand the relationship between two continuous variables. \n",
        "\n",
        "As an example, we can look at `selling price` vs. `age`."
      ]
    },
    {
      "cell_type": "code",
      "metadata": {
        "id": "fgIcWjsA71bH",
        "colab": {
          "base_uri": "https://localhost:8080/",
          "height": 297
        },
        "outputId": "bc990069-9160-41ef-88e0-0f9700533477"
      },
      "source": [
        "# first we'll grab our handy visualization tools\n",
        "import seaborn as sns\n",
        "import matplotlib.pyplot as plt\n",
        "\n",
        "# Each dot is a single example (row) from the dataframe, with its \n",
        "# x-value as `Age` and its y-value as `Selling_Price`\n",
        "#To use the  `scatterplot` tool from the `seaborn` plotting package... do the following: \n",
        "#sns.scatterplot(x = 'feature_column', y = 'target_column', data = source_data_frame)\n",
        "sns.scatterplot(x = 'Age', y = 'Selling_Price', data = car_data)"
      ],
      "execution_count": null,
      "outputs": [
        {
          "output_type": "execute_result",
          "data": {
            "text/plain": [
              "<matplotlib.axes._subplots.AxesSubplot at 0x7f0097a02210>"
            ]
          },
          "metadata": {
            "tags": []
          },
          "execution_count": 11
        },
        {
          "output_type": "display_data",
          "data": {
            "image/png": "[encoded data removed]",
            "text/plain": [
              "<Figure size 432x288 with 1 Axes>"
            ]
          },
          "metadata": {
            "tags": [],
            "needs_background": "light"
          }
        }
      ]
    },
    {
      "cell_type": "markdown",
      "metadata": {
        "id": "w5u2JrP_KXtm"
      },
      "source": [
        "### Question 💡\n"
      ]
    },
    {
      "cell_type": "markdown",
      "metadata": {
        "id": "IWp9KxMqKaTT"
      },
      "source": [
        "Data science is about understanding stories by looking at data visualizations. What do you hypothesize is going on in the scatter plot above? \n"
      ]
    },
    {
      "cell_type": "markdown",
      "metadata": {
        "id": "dHgYmiyE69aG"
      },
      "source": [
        "### Visualizing Categorical Data"
      ]
    },
    {
      "cell_type": "markdown",
      "metadata": {
        "id": "ynzdYvdJ6p3e"
      },
      "source": [
        "`Transmission` is another one of our variables. It can either be `Manual`or `Automatic`.  This is different than what we saw with `Selling_Price` in that `Transmission` is NOT a number. \n",
        "\n",
        "We call variables like `Transmission` categorical variables. \n",
        "\n"
      ]
    },
    {
      "cell_type": "markdown",
      "metadata": {
        "id": "OVPH1dlIcy4Q"
      },
      "source": [
        "### Question 💡\n",
        "Which of the other variables from our data table are categorical? "
      ]
    },
    {
      "cell_type": "markdown",
      "metadata": {
        "id": "v-Hais-UeP4W"
      },
      "source": [
        "There's a specific type of plot for visualizing categorical variables. This is `catplot`. Let's try it out!"
      ]
    },
    {
      "cell_type": "code",
      "metadata": {
        "id": "rsl6jADc7FrR",
        "colab": {
          "base_uri": "https://localhost:8080/",
          "height": 401
        },
        "outputId": "df815db4-f6ef-4e06-bf78-71dc64f94aba"
      },
      "source": [
        "# you can do the same thing with categorical variables!! but you will use catplot instead\n",
        "sns.catplot(x = 'Fuel_Type', y = 'Selling_Price', data = car_data, kind = 'swarm', s = 2)"
      ],
      "execution_count": null,
      "outputs": [
        {
          "output_type": "execute_result",
          "data": {
            "text/plain": [
              "<seaborn.axisgrid.FacetGrid at 0x7f00897e2ad0>"
            ]
          },
          "metadata": {
            "tags": []
          },
          "execution_count": 12
        },
        {
          "output_type": "display_data",
          "data": {
            "image/png": "[encoded data removed]",
            "text/plain": [
              "<Figure size 360x360 with 1 Axes>"
            ]
          },
          "metadata": {
            "tags": [],
            "needs_background": "light"
          }
        }
      ]
    },
    {
      "cell_type": "markdown",
      "metadata": {
        "id": "rK32UcSrelwg"
      },
      "source": [
        "### Question 💡\n",
        "What do you take away from the plot above? "
      ]
    },
    {
      "cell_type": "markdown",
      "metadata": {
        "id": "LwSjJSDTdR6w"
      },
      "source": [
        "###Optional Exercise: Groupby ✍️\n",
        "\n",
        "Using the `groupby` function in `pandas`, count the number of `Petrol` vs. `Diesel` vs. `CNG` cars in your dataset. (Hint: use a search engine to find examples!)"
      ]
    },
    {
      "cell_type": "code",
      "metadata": {
        "id": "-Tm5tR_idbB5",
        "colab": {
          "base_uri": "https://localhost:8080/",
          "height": 166
        },
        "outputId": "9573e112-3291-445f-97c5-b759072d27ab"
      },
      "source": [
        ""
      ],
      "execution_count": null,
      "outputs": [
        {
          "output_type": "error",
          "ename": "NameError",
          "evalue": "ignored",
          "traceback": [
            "\u001b[0;31m---------------------------------------------------------------------------\u001b[0m",
            "\u001b[0;31mNameError\u001b[0m                                 Traceback (most recent call last)",
            "\u001b[0;32m<ipython-input-14-5a1f3f0fb04f>\u001b[0m in \u001b[0;36m<module>\u001b[0;34m()\u001b[0m\n\u001b[0;32m----> 1\u001b[0;31m \u001b[0mdf\u001b[0m\u001b[0;34m.\u001b[0m\u001b[0mgroupby\u001b[0m\u001b[0;34m(\u001b[0m\u001b[0;34m[\u001b[0m\u001b[0;34m'Animal'\u001b[0m\u001b[0;34m]\u001b[0m\u001b[0;34m)\u001b[0m\u001b[0;34m.\u001b[0m\u001b[0mmean\u001b[0m\u001b[0;34m(\u001b[0m\u001b[0;34m)\u001b[0m\u001b[0;34m\u001b[0m\u001b[0;34m\u001b[0m\u001b[0m\n\u001b[0m",
            "\u001b[0;31mNameError\u001b[0m: name 'df' is not defined"
          ]
        }
      ]
    },
    {
      "cell_type": "markdown",
      "metadata": {
        "id": "4TNDDSFwMtFb"
      },
      "source": [
        "###  Exercise ✍️\n",
        "\n",
        "\n"
      ]
    },
    {
      "cell_type": "markdown",
      "metadata": {
        "id": "OLBkz9DEe0Ru"
      },
      "source": [
        "How do you think price will vary with Kms_Driven?\n",
        "\n",
        "Check your hypothesis against a plot!\n"
      ]
    },
    {
      "cell_type": "code",
      "metadata": {
        "id": "ziyiqsFze7L-"
      },
      "source": [
        "### YOUR CODE HERE\n",
        "\n",
        "### END CODE"
      ],
      "execution_count": null,
      "outputs": []
    },
    {
      "cell_type": "markdown",
      "metadata": {
        "id": "JjWE3B5LfZkY"
      },
      "source": [
        "### Question 💡\n",
        "Now that we've looked at our data for a few variables, let's take a step back, and ask:\n",
        "\n",
        "For __ variable, do we expect a car to be more or less expensive? "
      ]
    },
    {
      "cell_type": "markdown",
      "metadata": {
        "id": "SSYYamfgfW1g"
      },
      "source": [
        "* Seller_Type:\n",
        "* Transmission:\n",
        "\n",
        "Investigate these with seaborn!\n"
      ]
    },
    {
      "cell_type": "code",
      "metadata": {
        "id": "2mFufuJ8fr6j",
        "colab": {
          "base_uri": "https://localhost:8080/",
          "height": 201
        },
        "outputId": "2c6050ff-9324-45c2-cd40-304073a57e1a"
      },
      "source": [
        "### YOUR CODE HERE\n",
        "sns.catplot(____________________)\n",
        "### END CODE"
      ],
      "execution_count": null,
      "outputs": [
        {
          "output_type": "error",
          "ename": "NameError",
          "evalue": "ignored",
          "traceback": [
            "\u001b[0;31m---------------------------------------------------------------------------\u001b[0m",
            "\u001b[0;31mNameError\u001b[0m                                 Traceback (most recent call last)",
            "\u001b[0;32m<ipython-input-21-b7535ea0ac74>\u001b[0m in \u001b[0;36m<module>\u001b[0;34m()\u001b[0m\n\u001b[1;32m      1\u001b[0m \u001b[0;31m### YOUR CODE HERE\u001b[0m\u001b[0;34m\u001b[0m\u001b[0;34m\u001b[0m\u001b[0;34m\u001b[0m\u001b[0m\n\u001b[0;32m----> 2\u001b[0;31m \u001b[0msns\u001b[0m\u001b[0;34m.\u001b[0m\u001b[0mcatplot\u001b[0m\u001b[0;34m(\u001b[0m\u001b[0m____________________\u001b[0m\u001b[0;34m)\u001b[0m\u001b[0;34m\u001b[0m\u001b[0;34m\u001b[0m\u001b[0m\n\u001b[0m\u001b[1;32m      3\u001b[0m \u001b[0;31m### END CODE\u001b[0m\u001b[0;34m\u001b[0m\u001b[0;34m\u001b[0m\u001b[0;34m\u001b[0m\u001b[0m\n",
            "\u001b[0;31mNameError\u001b[0m: name '____________________' is not defined"
          ]
        }
      ]
    },
    {
      "cell_type": "markdown",
      "metadata": {
        "id": "GY_5ltQS4s3C"
      },
      "source": [
        "## Linear Regression\n"
      ]
    },
    {
      "cell_type": "markdown",
      "metadata": {
        "id": "yILvpzZOgHVW"
      },
      "source": [
        "### Question 💡\n",
        "\n",
        "How would you *quantify* the relationship between age and selling price?"
      ]
    },
    {
      "cell_type": "markdown",
      "metadata": {
        "id": "l0CXOWJs7L29"
      },
      "source": [
        "### Linear Regression"
      ]
    },
    {
      "cell_type": "markdown",
      "metadata": {
        "id": "fABVpt6Y0qqY"
      },
      "source": [
        "Linear regression is a statistical approach to find and determine a relationship among an independent variable `x` and a dependent variable `y`. For us, our `x` is `Age` while our `y` is `Selling_Price`. In the below equation, linear regression helps us find the `m` and `b` that best relates our variables. \n",
        "\n",
        "$y= mx + b$\n",
        "\n",
        "Another way to say this is: we create a line that 'summarizes' the story that the data tells us. "
      ]
    },
    {
      "cell_type": "markdown",
      "metadata": {
        "id": "X9UiW3wdiuuA"
      },
      "source": [
        "**Let's explore linear regression through a demo!**\n",
        "\n",
        "[Playground!](http://setosa.io/ev/ordinary-least-squares-regression/)"
      ]
    },
    {
      "cell_type": "markdown",
      "metadata": {
        "id": "Ee5Y4woxjNvi"
      },
      "source": [
        "### Linear Regression in Python"
      ]
    },
    {
      "cell_type": "markdown",
      "metadata": {
        "id": "7-zKe6JKjhEz"
      },
      "source": [
        "We'll use sklearn to run our linear regression below"
      ]
    },
    {
      "cell_type": "code",
      "metadata": {
        "id": "AyUa0zil_Asb",
        "colab": {
          "base_uri": "https://localhost:8080/"
        },
        "outputId": "df3b695d-24f8-4afd-991c-e547d24db555"
      },
      "source": [
        "import sklearn\n",
        "#sklearn.linear_model.LinearRegression.fit\n",
        "# let's pull our handy linear fitter from our 'prediction' toolbox: sklearn!\n",
        "from sklearn import linear_model\n",
        "import numpy as np    # Great for lists (arrays) of numbers\n",
        "\n",
        "x = car_data[['Age']]\n",
        "y = car_data[['Selling_Price']]\n",
        "\n",
        "# set up our model\n",
        "linear = linear_model.LinearRegression()\n",
        "\n",
        "# train the model \n",
        "linear.fit(x, y)"
      ],
      "execution_count": null,
      "outputs": [
        {
          "output_type": "execute_result",
          "data": {
            "text/plain": [
              "LinearRegression(copy_X=True, fit_intercept=True, n_jobs=None, normalize=False)"
            ]
          },
          "metadata": {
            "tags": []
          },
          "execution_count": 27
        }
      ]
    },
    {
      "cell_type": "code",
      "metadata": {
        "id": "RReOkaEFpvjl",
        "cellView": "form",
        "colab": {
          "base_uri": "https://localhost:8080/",
          "height": 279
        },
        "outputId": "7b0a1caa-fcf5-45c1-8ec5-53238bbc0ffa"
      },
      "source": [
        "#@title Visualize the fit with this cell!\n",
        "import matplotlib.pyplot as plt\n",
        "\n",
        "y_pred = linear.predict(x)\n",
        "plt.plot(x, y_pred, color='red')\n",
        "\n",
        "plt.scatter(x, y)\n",
        "plt.xlabel('Age') # set the labels of the x and y axes\n",
        "plt.ylabel('Selling_Price (lakhs)')\n",
        "plt.show()"
      ],
      "execution_count": null,
      "outputs": [
        {
          "output_type": "display_data",
          "data": {
            "image/png": "[encoded data removed]",
            "text/plain": [
              "<Figure size 432x288 with 1 Axes>"
            ]
          },
          "metadata": {
            "tags": [],
            "needs_background": "light"
          }
        }
      ]
    },
    {
      "cell_type": "markdown",
      "metadata": {
        "id": "ouYw5bRKm0I2"
      },
      "source": [
        "Remember! We were trying to find the best `b` and `m` to capture our data's story. We can grab this from the trained model. "
      ]
    },
    {
      "cell_type": "code",
      "metadata": {
        "id": "eb33Iylem6cv",
        "colab": {
          "base_uri": "https://localhost:8080/"
        },
        "outputId": "34ecc542-60c4-4f50-aa6a-45ac5863d17d"
      },
      "source": [
        "print('Our m in lakhs/year: ', linear.coef_)"
      ],
      "execution_count": null,
      "outputs": [
        {
          "output_type": "stream",
          "text": [
            "Our m in lakhs/year:  [[-0.41509169]]\n"
          ],
          "name": "stdout"
        }
      ]
    },
    {
      "cell_type": "markdown",
      "metadata": {
        "id": "hoVTkaNMuxM4"
      },
      "source": [
        "`m` says: The more recent a car is by one year, the selling price is `m` lakhs higher. "
      ]
    },
    {
      "cell_type": "markdown",
      "metadata": {
        "id": "eBBAeXP0pJ0h"
      },
      "source": [
        "### Question 💡\n",
        "\n",
        "Let's say you were deciding between a brand new car (2021) and the same model that was 3 years older (2018). How much cheaper should the older car be by our model?"
      ]
    },
    {
      "cell_type": "markdown",
      "metadata": {
        "id": "oufwn6jRzicM"
      },
      "source": [
        "To complete the equation, we still need our intercept `b`"
      ]
    },
    {
      "cell_type": "code",
      "metadata": {
        "id": "VSZ7OYSeyQKB",
        "colab": {
          "base_uri": "https://localhost:8080/"
        },
        "outputId": "37fd3f5c-d737-4d6d-af38-d6fdcc8f1fed"
      },
      "source": [
        "print('Our intercept b: ', linear.intercept_)"
      ],
      "execution_count": null,
      "outputs": [
        {
          "output_type": "stream",
          "text": [
            "Our intercept b:  [6.89120688]\n"
          ],
          "name": "stdout"
        }
      ]
    },
    {
      "cell_type": "markdown",
      "metadata": {
        "id": "mm7aNp8cbqHF"
      },
      "source": [
        "How should we interpret it? Using our `m` and `b` values, how do we find the price of the cars?"
      ]
    },
    {
      "cell_type": "markdown",
      "metadata": {
        "id": "AhWhJAsaug89"
      },
      "source": [
        "### Exercise ✍️"
      ]
    },
    {
      "cell_type": "markdown",
      "metadata": {
        "id": "uh0q6cXnwBqg"
      },
      "source": [
        "You go to a car salesperson to buy a nice used car. The car you want is a 2016 model and he offers to sell it for 7 lakh. Would you take it? If not, how much would you take it for? "
      ]
    },
    {
      "cell_type": "markdown",
      "metadata": {
        "id": "PJwlwKfem6gM"
      },
      "source": [
        "No: 4.8 Lach\n",
        "y = mx + b\n",
        "x being 5 gives 4.8 lach"
      ]
    },
    {
      "cell_type": "markdown",
      "metadata": {
        "id": "24QbsTU_sTF3"
      },
      "source": [
        "## (Optional) Multiple Linear Regression: Using multiple inputs "
      ]
    },
    {
      "cell_type": "markdown",
      "metadata": {
        "id": "vYt0sZGgs6WP"
      },
      "source": [
        "We can try to make our model better by using multiple input variables, like `Kms_Driven` and `Transmission`. "
      ]
    },
    {
      "cell_type": "markdown",
      "metadata": {
        "id": "Hym5l_CJ1DBu"
      },
      "source": [
        "`Transmission`, however, is a categorical variable. To use linear regression, we need it to be numeric. We can easily transform `Transmission` to a numeric variable by replacing `Manual` with `1` and `Automatic` with `0`."
      ]
    },
    {
      "cell_type": "code",
      "metadata": {
        "id": "vukhDq7PsV8X"
      },
      "source": [
        "car_data['TransmissionNumber'] = car_data['Transmission'].replace({'Manual':1, 'Automatic':0})"
      ],
      "execution_count": null,
      "outputs": []
    },
    {
      "cell_type": "code",
      "metadata": {
        "id": "yS0heQCjrDdJ",
        "colab": {
          "base_uri": "https://localhost:8080/",
          "height": 202
        },
        "outputId": "061fb3c0-c401-442b-d554-a1dedd44c683"
      },
      "source": [
        "car_data.head()"
      ],
      "execution_count": null,
      "outputs": [
        {
          "output_type": "execute_result",
          "data": {
            "text/html": [
              "<div>\n",
              "<style scoped>\n",
              "    .dataframe tbody tr th:only-of-type {\n",
              "        vertical-align: middle;\n",
              "    }\n",
              "\n",
              "    .dataframe tbody tr th {\n",
              "        vertical-align: top;\n",
              "    }\n",
              "\n",
              "    .dataframe thead th {\n",
              "        text-align: right;\n",
              "    }\n",
              "</style>\n",
              "<table border=\"1\" class=\"dataframe\">\n",
              "  <thead>\n",
              "    <tr style=\"text-align: right;\">\n",
              "      <th></th>\n",
              "      <th>Car_Name</th>\n",
              "      <th>Age</th>\n",
              "      <th>Selling_Price</th>\n",
              "      <th>Kms_Driven</th>\n",
              "      <th>Fuel_Type</th>\n",
              "      <th>Seller_Type</th>\n",
              "      <th>Transmission</th>\n",
              "      <th>TransmissionNumber</th>\n",
              "    </tr>\n",
              "  </thead>\n",
              "  <tbody>\n",
              "    <tr>\n",
              "      <th>0</th>\n",
              "      <td>ritz</td>\n",
              "      <td>5</td>\n",
              "      <td>3.35</td>\n",
              "      <td>27000</td>\n",
              "      <td>Petrol</td>\n",
              "      <td>Dealer</td>\n",
              "      <td>Manual</td>\n",
              "      <td>1</td>\n",
              "    </tr>\n",
              "    <tr>\n",
              "      <th>1</th>\n",
              "      <td>sx4</td>\n",
              "      <td>6</td>\n",
              "      <td>4.75</td>\n",
              "      <td>43000</td>\n",
              "      <td>Diesel</td>\n",
              "      <td>Dealer</td>\n",
              "      <td>Manual</td>\n",
              "      <td>1</td>\n",
              "    </tr>\n",
              "    <tr>\n",
              "      <th>2</th>\n",
              "      <td>ciaz</td>\n",
              "      <td>2</td>\n",
              "      <td>7.25</td>\n",
              "      <td>6900</td>\n",
              "      <td>Petrol</td>\n",
              "      <td>Dealer</td>\n",
              "      <td>Manual</td>\n",
              "      <td>1</td>\n",
              "    </tr>\n",
              "    <tr>\n",
              "      <th>3</th>\n",
              "      <td>wagon r</td>\n",
              "      <td>8</td>\n",
              "      <td>2.85</td>\n",
              "      <td>5200</td>\n",
              "      <td>Petrol</td>\n",
              "      <td>Dealer</td>\n",
              "      <td>Manual</td>\n",
              "      <td>1</td>\n",
              "    </tr>\n",
              "    <tr>\n",
              "      <th>4</th>\n",
              "      <td>swift</td>\n",
              "      <td>5</td>\n",
              "      <td>4.60</td>\n",
              "      <td>42450</td>\n",
              "      <td>Diesel</td>\n",
              "      <td>Dealer</td>\n",
              "      <td>Manual</td>\n",
              "      <td>1</td>\n",
              "    </tr>\n",
              "  </tbody>\n",
              "</table>\n",
              "</div>"
            ],
            "text/plain": [
              "  Car_Name  Age  Selling_Price  ...  Seller_Type Transmission TransmissionNumber\n",
              "0     ritz    5           3.35  ...       Dealer       Manual                  1\n",
              "1      sx4    6           4.75  ...       Dealer       Manual                  1\n",
              "2     ciaz    2           7.25  ...       Dealer       Manual                  1\n",
              "3  wagon r    8           2.85  ...       Dealer       Manual                  1\n",
              "4    swift    5           4.60  ...       Dealer       Manual                  1\n",
              "\n",
              "[5 rows x 8 columns]"
            ]
          },
          "metadata": {
            "tags": []
          },
          "execution_count": 33
        }
      ]
    },
    {
      "cell_type": "markdown",
      "metadata": {
        "id": "jAFRdTYQ14bs"
      },
      "source": [
        "Let's now run our multiple linear regression on our dataset"
      ]
    },
    {
      "cell_type": "code",
      "metadata": {
        "id": "Vv1sW8Cc1Ykc",
        "colab": {
          "base_uri": "https://localhost:8080/"
        },
        "outputId": "25c43fba-28f1-4ea6-fcd3-2fdb55cf0011"
      },
      "source": [
        "x = car_data[['Age', 'TransmissionNumber', 'Kms_Driven']]\n",
        "\n",
        "# set up our model\n",
        "multiple = linear_model.LinearRegression(fit_intercept = True, normalize = True)\n",
        "\n",
        "# train the model \n",
        "multiple.fit(x, y)"
      ],
      "execution_count": null,
      "outputs": [
        {
          "output_type": "execute_result",
          "data": {
            "text/plain": [
              "LinearRegression(copy_X=True, fit_intercept=True, n_jobs=None, normalize=True)"
            ]
          },
          "metadata": {
            "tags": []
          },
          "execution_count": 34
        }
      ]
    },
    {
      "cell_type": "markdown",
      "metadata": {
        "id": "Wc7akf7Y18Tb"
      },
      "source": [
        "How well did it do compared to our simple linear regression from before? We can actually compare the two with their 'scores'! The score is known as r-squared ($R^2$)."
      ]
    },
    {
      "cell_type": "code",
      "metadata": {
        "id": "VeC3cB2V2C-1",
        "colab": {
          "base_uri": "https://localhost:8080/"
        },
        "outputId": "5ab6a25f-a1a0-4e76-8369-b857d92396aa"
      },
      "source": [
        "print('Our single linear model had an R^2 of: %0.3f'%linear.score(x[['Age']], y)) "
      ],
      "execution_count": null,
      "outputs": [
        {
          "output_type": "stream",
          "text": [
            "Our single linear model had an R^2 of: 0.056\n"
          ],
          "name": "stdout"
        }
      ]
    },
    {
      "cell_type": "code",
      "metadata": {
        "id": "aWo3ld7S1m7i",
        "colab": {
          "base_uri": "https://localhost:8080/"
        },
        "outputId": "3aca778c-62c4-4e3c-8d46-d17c38542b36"
      },
      "source": [
        "print('Our multiple linear model had an R^2 of: %0.3f'%multiple.score(x, y))"
      ],
      "execution_count": null,
      "outputs": [
        {
          "output_type": "stream",
          "text": [
            "Our multiple linear model had an R^2 of: 0.203\n"
          ],
          "name": "stdout"
        }
      ]
    },
    {
      "cell_type": "markdown",
      "metadata": {
        "id": "JyWIZkKy2wgh"
      },
      "source": [
        "In real life, you wouldn't buy a car based on a single variable like `Age`. You would take into account a lot of different variables like our multiple linear model did!"
      ]
    },
    {
      "cell_type": "markdown",
      "metadata": {
        "id": "ATTq0EpXCrCH"
      },
      "source": [
        "### Exercise ✍️"
      ]
    },
    {
      "cell_type": "markdown",
      "metadata": {
        "id": "spVtP6qzCtao"
      },
      "source": [
        "You noticed that we did not include `Seller_Type` as one of the variables in our multiple linear regression. Figure out what steps you need to take to build a model with `Seller_Type` included. Check the $R^2$ to see if you do any better."
      ]
    },
    {
      "cell_type": "code",
      "metadata": {
        "id": "TWIayxXADB_9"
      },
      "source": [
        "### YOUR CODE HERE\n",
        "\n",
        "### END CODE"
      ],
      "execution_count": null,
      "outputs": []
    },
    {
      "cell_type": "markdown",
      "metadata": {
        "id": "IMkNnu3jCsnB"
      },
      "source": [
        "## Challenge Section: Finding The Best Deal ✍️"
      ]
    },
    {
      "cell_type": "markdown",
      "metadata": {
        "id": "ldMwbTPVCyG7"
      },
      "source": [
        "Now that we've made a prediction of each car's price using all the variables, we can compare each car's predicted price to its actual one. We can see which cars are a good deal, and which are overpriced. Let's start by making a scatterplot of predicted vs. real prices, using pyplot methods."
      ]
    },
    {
      "cell_type": "code",
      "metadata": {
        "id": "qlaK1l05Dlp7"
      },
      "source": [
        "plt.plot([-5,15],[-5,15]) #Drawing in the line of equality so we can compare\n",
        "plt.title(\"Predicted vs. Real Prices\")\n",
        "plt.xlabel(\"Real price\")\n",
        "plt.ylabel(\"Predicted price\")\n",
        "#TODO: Fill in code here to add a scatterplot of predicted vs. real prices\n",
        "plt.show()"
      ],
      "execution_count": null,
      "outputs": []
    },
    {
      "cell_type": "markdown",
      "metadata": {
        "id": "LOjEJfBbWler"
      },
      "source": [
        "There are a few weird things about this graph. Discuss:\n",
        "*   Which data points seem unusual? Which cars seem most overpriced, and which seem like the best deal?\n",
        "*   Do the data \"look linear\" overall? Are predicted prices equally likely to lie above or below the true price, no matter where we are in the graph?\n",
        "*   Some predicted prices seem impossible - which ones?\n",
        "\n",
        "These issues suggest that, no matter what our R^2 says, linear regression might not be the best model for this situation. A more complex model could make more accurate predictions.\n",
        "\n",
        "For now, let's stick with our linear regression. Let's add our predicted prices on to our data frame:\n",
        "\n"
      ]
    },
    {
      "cell_type": "code",
      "metadata": {
        "id": "A4TzF-AdYCAs"
      },
      "source": [
        "pd.set_option('display.max_columns', 500)\n",
        "pd.set_option('display.width', 1000)\n",
        "\n",
        "car_data['Prediction'] = prediction\n",
        "print (car_data)"
      ],
      "execution_count": null,
      "outputs": []
    },
    {
      "cell_type": "markdown",
      "metadata": {
        "id": "l4aF4OJkYLSK"
      },
      "source": [
        "Now - assuming for now that the predicted scores are good ones - let's figure out the cars that are especially good or bad deals by comparing the real price to the predicted price.\n",
        "\n",
        "Come up with a way to calculate the \"Deal Score\", and add a new column to the data frame. A car with a high Deal Score has a low true cost compared to its predicted value, while a car with a low Deal Score is overpriced. "
      ]
    },
    {
      "cell_type": "code",
      "metadata": {
        "id": "pwDx-C6xYdM8"
      },
      "source": [
        "car_data['deal_score'] = _________ #your way of calculating the score here\n",
        "print (car_data)\n",
        "#You can experiment with different ways of defining it."
      ],
      "execution_count": null,
      "outputs": []
    },
    {
      "cell_type": "markdown",
      "metadata": {
        "id": "H-C3-WbDYnTz"
      },
      "source": [
        "Using the pandas sort_values function, identify the 10 most overpriced cars and the 10 cars that are the best deal."
      ]
    },
    {
      "cell_type": "code",
      "metadata": {
        "id": "nEPJ-OyNYIum"
      },
      "source": [
        "#Your code here!\n",
        "print (best_deals)\n",
        "print (most_overpriced)"
      ],
      "execution_count": null,
      "outputs": []
    },
    {
      "cell_type": "markdown",
      "metadata": {
        "id": "IQjcGZJiY9Fd"
      },
      "source": [
        "Here's the graphing code again from earlier. This time, plot the best deals in one color, the most overpriced cars in another color, and the other cars in a third color. Do your calculations align with your guesses from looking at the graph? What happens if you change your method of calculating the Deal Score?"
      ]
    },
    {
      "cell_type": "code",
      "metadata": {
        "id": "YiOKJzvnBbBp",
        "colab": {
          "base_uri": "https://localhost:8080/",
          "height": 295
        },
        "outputId": "04a2f6e8-1817-4e7f-f2df-84efd11f5bb4"
      },
      "source": [
        "plt.plot([-5,15],[-5,15]) #Drawing in the line of equality so we can compare\n",
        "plt.title(\"Predicted vs. Real Prices\")\n",
        "plt.xlabel(\"Real price\")\n",
        "plt.ylabel(\"Predicted price\")\n",
        "#Make a scatterplot with several colors:\n",
        "#Show 10 best deals in one color\n",
        "#Show 10 most overpriced in another color\n",
        "#Show the other cars in a third color\n",
        "plt.show()"
      ],
      "execution_count": null,
      "outputs": [
        {
          "output_type": "display_data",
          "data": {
            "image/png": "[encoded data removed]",
            "text/plain": [
              "<Figure size 432x288 with 1 Axes>"
            ]
          },
          "metadata": {
            "tags": [],
            "needs_background": "light"
          }
        }
      ]
    },
    {
      "cell_type": "markdown",
      "metadata": {
        "id": "NQS_uAelaJYX"
      },
      "source": [
        "Congratulations! You've now identified the cars that are the best buy.\n",
        "\n",
        "... Or have you? Why might a car have a lower-than-predicted price, besides a seller making a mistake?\n",
        "\n",
        "What other data would you need to be really confident in your decision?"
      ]
    }
  ]
}