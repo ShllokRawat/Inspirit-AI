{
  "nbformat": 4,
  "nbformat_minor": 0,
  "metadata": {
    "accelerator": "GPU",
    "colab": {
      "name": "CNN.ipynb",
      "provenance": [],
      "collapsed_sections": []
    },
    "kernelspec": {
      "display_name": "Python 3",
      "language": "python",
      "name": "python3"
    },
    "language_info": {
      "codemirror_mode": {
        "name": "ipython",
        "version": 3
      },
      "file_extension": ".py",
      "mimetype": "text/x-python",
      "name": "python",
      "nbconvert_exporter": "python",
      "pygments_lexer": "ipython3",
      "version": "3.8.2"
    }
  },
  "cells": [
    {
      "cell_type": "markdown",
      "metadata": {
        "id": "TiM6gYg0nhkY"
      },
      "source": [
        "<font color=\"#de3023\"><h1><b>REMINDER MAKE A COPY OF THIS NOTEBOOK, DO NOT EDIT</b></h1></font>"
      ]
    },
    {
      "cell_type": "markdown",
      "metadata": {
        "id": "Sq-JhCcLpBwS"
      },
      "source": [
        "#Conscientious Cars 2: Convolutional Neural Nets\n",
        "\n",
        "Welcome back to CC: ConscientiousCars! Today, we'll be improving on our system for distinguishing dogs from roads, so we can keep these cute puppers safe."
      ]
    },
    {
      "cell_type": "code",
      "metadata": {
        "id": "uhNVum16scIW"
      },
      "source": [
        "#@title Run this to load some packages and data! { display-mode: \"form\" }\n",
        "from sklearn.neural_network import MLPClassifier\n",
        "from sklearn.neighbors import KNeighborsClassifier\n",
        "from sklearn import model_selection\n",
        "from sklearn.metrics import accuracy_score\n",
        "from collections import Counter\n",
        "import keras\n",
        "from keras.models import Sequential\n",
        "from keras.layers import Dense, Conv2D\n",
        "from keras.layers import Activation, MaxPooling2D, Dropout, Flatten, Reshape\n",
        "from keras.wrappers.scikit_learn import KerasClassifier\n",
        "from sklearn.model_selection import StratifiedKFold\n",
        "from sklearn.model_selection import cross_val_score\n",
        "import numpy as np\n",
        "import pandas as pd\n",
        "import seaborn as sns\n",
        "import matplotlib.pyplot as plt\n",
        "\n",
        "\n",
        "def categorical_to_numpy(labels_in):\n",
        "  labels = []\n",
        "  for label in labels_in:\n",
        "    if label == 'dog':\n",
        "      labels.append(np.array([1, 0]))\n",
        "    else:\n",
        "      labels.append(np.array([0, 1]))\n",
        "  return np.array(labels)\n",
        "\n",
        "\n",
        "def load_data():\n",
        "  # Run this cell to download our data into a file called 'cifar_data'\n",
        "  import gdown\n",
        "  # gdown.download('https://drive.google.com/uc?id=1-BjeqccJdLiBA6PnNinmXSQ6w5BluLem','cifar_data','True'); # dogs v road;\n",
        "  !wget -O cifar_data https://storage.googleapis.com/inspirit-ai-data-bucket-1/Data/AI%20Scholars/Sessions%201%20-%205/Session%204%20_%205%20-%20Neural%20Networks%20_%20CNN/dogs_v_roads\n",
        "\n",
        "  # now load the data from our cloud computer\n",
        "  import pickle\n",
        "  data_dict = pickle.load(open( \"cifar_data\", \"rb\" ));\n",
        "  \n",
        "  data   = data_dict['data']\n",
        "  labels = data_dict['labels']\n",
        "  \n",
        "  return data, labels\n",
        "\n",
        "def plot_one_image(data, labels, img_idx):\n",
        "  from google.colab.patches import cv2_imshow\n",
        "  import cv2\n",
        "  import matplotlib.pyplot as plt\n",
        "  my_img   = data[img_idx, :].squeeze().reshape([32,32,3]).copy()\n",
        "  my_label = labels[img_idx]\n",
        "  print('label: %s'%my_label)\n",
        "  plt.imshow(my_img)\n",
        "  plt.show()\n",
        "  \n",
        "def CNNClassifier(num_epochs=2, layers=1, dropout=0.15):\n",
        "  def create_model():\n",
        "    model = Sequential()\n",
        "    model.add(Reshape((32, 32, 3)))\n",
        "    \n",
        "    for i in range(layers):\n",
        "      model.add(Conv2D(32, (3, 3), padding='same'))\n",
        "      model.add(Activation('relu'))\n",
        "    \n",
        "    model.add(Conv2D(32, (3, 3)))\n",
        "    model.add(Activation('relu'))\n",
        "    model.add(MaxPooling2D(pool_size=(2, 2)))\n",
        "    model.add(Dropout(dropout))\n",
        "\n",
        "    model.add(Conv2D(64, (3, 3), padding='same'))\n",
        "    model.add(Activation('relu'))\n",
        "    model.add(Conv2D(64, (3, 3)))\n",
        "    model.add(Activation('relu'))\n",
        "    model.add(MaxPooling2D(pool_size=(2, 2)))\n",
        "    model.add(Dropout(dropout))\n",
        "\n",
        "    model.add(Flatten())\n",
        "    model.add(Dense(512))\n",
        "    model.add(Activation('relu'))\n",
        "    model.add(Dropout(dropout))\n",
        "    model.add(Dense(2))\n",
        "    model.add(Activation('softmax'))\n",
        "\n",
        "    # initiate RMSprop optimizer\n",
        "    opt = keras.optimizers.RMSprop(lr=0.0001, decay=1e-6)\n",
        "\n",
        "    # Let's train the model using RMSprop\n",
        "    model.compile(loss='categorical_crossentropy',\n",
        "                  optimizer=opt,\n",
        "                  metrics=['accuracy'])\n",
        "    return model\n",
        "  return KerasClassifier(build_fn=create_model, epochs=num_epochs, batch_size=10, verbose=2)\n",
        "\n",
        "def plot_acc(history, ax = None, xlabel = 'Epoch #'):\n",
        "    history = history.history\n",
        "    history.update({'epoch':list(range(len(history['val_accuracy'])))})\n",
        "    history = pd.DataFrame.from_dict(history)\n",
        "\n",
        "    best_epoch = history.sort_values(by = 'val_accuracy', ascending = False).iloc[0]['epoch']\n",
        "\n",
        "    if not ax:\n",
        "      f, ax = plt.subplots(1,1)\n",
        "    sns.lineplot(x = 'epoch', y = 'val_accuracy', data = history, label = 'Validation', ax = ax)\n",
        "    sns.lineplot(x = 'epoch', y = 'accuracy', data = history, label = 'Training', ax = ax)\n",
        "    ax.axhline(0.5, linestyle = '--',color='red', label = 'Chance')\n",
        "    ax.axvline(x = best_epoch, linestyle = '--', color = 'green', label = 'Best Epoch')  \n",
        "    ax.legend(loc = 1)    \n",
        "    ax.set_ylim([0.4, 1])\n",
        "\n",
        "    ax.set_xlabel(xlabel)\n",
        "    ax.set_ylabel('Accuracy (Fraction)')\n",
        "    \n",
        "    plt.show()\n",
        "    \n",
        "def model_to_string(model):\n",
        "    import re\n",
        "    stringlist = []\n",
        "    model.summary(print_fn=lambda x: stringlist.append(x))\n",
        "    sms = \"\\n\".join(stringlist)\n",
        "    sms = re.sub('_\\d\\d\\d','', sms)\n",
        "    sms = re.sub('_\\d\\d','', sms)\n",
        "    sms = re.sub('_\\d','', sms)  \n",
        "    return sms"
      ],
      "execution_count": null,
      "outputs": []
    },
    {
      "cell_type": "markdown",
      "metadata": {
        "id": "wkseZ14ms7vs"
      },
      "source": [
        "In this notebook, we will:\n",
        "\n",
        "- Use a pre-built CNN function to classify roads vs. dogs.\n",
        "- Build neural networks from scratch in Keras.\n",
        "- Experiment with building CNN models from scratch in Keras.\n",
        "- (Advanced, Optional) Build CNN models for distinguishing cats from dogs, and even experiment with implementing a famous architecture!\n"
      ]
    },
    {
      "cell_type": "markdown",
      "metadata": {
        "id": "qMWQRlTqt6Yn"
      },
      "source": [
        "**Change Hardware Accelerator to GPU to train faster (Runtime -> Change Runtime Type -> Hardware Accelerator -> GPU)**"
      ]
    },
    {
      "cell_type": "markdown",
      "metadata": {
        "id": "1QxGsnvhnn8R"
      },
      "source": [
        "#Loading in Data"
      ]
    },
    {
      "cell_type": "markdown",
      "metadata": {
        "id": "btr24O6Hqgo6"
      },
      "source": [
        "Once again, let's load in our dog/road dataset and create our training and test set. **What's the shape of each dataset? Why?**"
      ]
    },
    {
      "cell_type": "code",
      "metadata": {
        "id": "MmZbrZoKnthN",
        "colab": {
          "base_uri": "https://localhost:8080/"
        },
        "outputId": "04971c4d-afcb-4c61-ac6e-170842ecddbc"
      },
      "source": [
        "# load our data\n",
        "data, labels = load_data()\n",
        "data = data.astype(float)\n",
        "labels = categorical_to_numpy(labels)\n",
        "inputs_train, inputs_test, labels_train, labels_test = model_selection.train_test_split(data, labels, test_size=0.2, random_state=1)"
      ],
      "execution_count": null,
      "outputs": [
        {
          "output_type": "stream",
          "text": [
            "--2021-06-25 16:24:09--  https://storage.googleapis.com/inspirit-ai-data-bucket-1/Data/AI%20Scholars/Sessions%201%20-%205/Session%204%20_%205%20-%20Neural%20Networks%20_%20CNN/dogs_v_roads\n",
            "Resolving storage.googleapis.com (storage.googleapis.com)... 172.253.62.128, 172.253.115.128, 172.253.122.128, ...\n",
            "Connecting to storage.googleapis.com (storage.googleapis.com)|172.253.62.128|:443... connected.\n",
            "HTTP request sent, awaiting response... 200 OK\n",
            "Length: 3689015 (3.5M) [application/octet-stream]\n",
            "Saving to: ‘cifar_data’\n",
            "\n",
            "\rcifar_data            0%[                    ]       0  --.-KB/s               \rcifar_data          100%[===================>]   3.52M  --.-KB/s    in 0.02s   \n",
            "\n",
            "2021-06-25 16:24:09 (227 MB/s) - ‘cifar_data’ saved [3689015/3689015]\n",
            "\n"
          ],
          "name": "stdout"
        }
      ]
    },
    {
      "cell_type": "markdown",
      "metadata": {
        "id": "37O_VE_D1Bdy"
      },
      "source": [
        "# Models for Vision: Convolutional Neural Networks"
      ]
    },
    {
      "cell_type": "markdown",
      "metadata": {
        "id": "GqrfI4JiVeFr"
      },
      "source": [
        "###Exercise: Exploring Hyperparameters ✍️\n",
        "\n",
        "As you know, there is a famous type of neural network known as convolutional neural networks (CNNs). These types of neural networks work particularly well on problems to do with computer vision. Let's try one out!\n",
        "\n",
        "To load up a simple CNN on scikit-learn, just run:\n",
        "\n",
        "`cnn = CNNClassifier(num_epochs, layers, dropout)`\n",
        "\n",
        "Work with your instructors to review what each parameter means and how it affects the model! The **dropout** represents how many weights we set to 0 during training time, which can help prevent overfitting.\n",
        "\n",
        "**Try different values of num_epochs, layers, and dropout so that you get the best possible accuracy on the test set using `model.score()`**!"
      ]
    },
    {
      "cell_type": "code",
      "metadata": {
        "id": "bmC3-T4KRJgW",
        "colab": {
          "base_uri": "https://localhost:8080/"
        },
        "outputId": "bb958fa9-d77f-468e-b48b-9d907341e3a2"
      },
      "source": [
        "cnn = CNNClassifier(5, 2, 0.5)\n",
        "cnn.fit(inputs_train, labels_train)\n",
        "preds = cnn.predict(inputs_test)\n",
        "print (cnn.score(inputs_test, labels_test)*100)"
      ],
      "execution_count": null,
      "outputs": [
        {
          "output_type": "stream",
          "text": [
            "/usr/local/lib/python3.7/dist-packages/tensorflow/python/keras/optimizer_v2/optimizer_v2.py:375: UserWarning: The `lr` argument is deprecated, use `learning_rate` instead.\n",
            "  \"The `lr` argument is deprecated, use `learning_rate` instead.\")\n"
          ],
          "name": "stderr"
        },
        {
          "output_type": "stream",
          "text": [
            "Epoch 1/5\n",
            "96/96 - 3s - loss: 8.4612 - accuracy: 0.5677\n",
            "Epoch 2/5\n",
            "96/96 - 0s - loss: 1.1177 - accuracy: 0.7646\n",
            "Epoch 3/5\n",
            "96/96 - 0s - loss: 0.6393 - accuracy: 0.8167\n",
            "Epoch 4/5\n",
            "96/96 - 0s - loss: 0.4101 - accuracy: 0.8604\n",
            "Epoch 5/5\n",
            "96/96 - 0s - loss: 0.3327 - accuracy: 0.8813\n"
          ],
          "name": "stdout"
        },
        {
          "output_type": "stream",
          "text": [
            "/usr/local/lib/python3.7/dist-packages/keras/engine/sequential.py:450: UserWarning: `model.predict_classes()` is deprecated and will be removed after 2021-01-01. Please use instead:* `np.argmax(model.predict(x), axis=-1)`,   if your model does multi-class classification   (e.g. if it uses a `softmax` last-layer activation).* `(model.predict(x) > 0.5).astype(\"int32\")`,   if your model does binary classification   (e.g. if it uses a `sigmoid` last-layer activation).\n",
            "  warnings.warn('`model.predict_classes()` is deprecated and '\n"
          ],
          "name": "stderr"
        },
        {
          "output_type": "stream",
          "text": [
            "24/24 - 0s\n",
            "24/24 - 1s - loss: 0.1526 - accuracy: 0.9542\n",
            "95.41666507720947\n"
          ],
          "name": "stdout"
        }
      ]
    },
    {
      "cell_type": "code",
      "metadata": {
        "id": "dSwghlVU4WTy",
        "colab": {
          "base_uri": "https://localhost:8080/"
        },
        "outputId": "e3619eff-1ec2-4e7f-a709-3b9a3b34a48e"
      },
      "source": [
        "print(preds)"
      ],
      "execution_count": null,
      "outputs": [
        {
          "output_type": "stream",
          "text": [
            "[1 1 0 0 0 0 1 0 0 1 0 0 0 0 1 0 0 0 0 0 0 0 0 1 0 1 1 0 1 0 1 1 0 1 0 0 1\n",
            " 0 1 0 0 0 0 0 1 1 1 0 1 0 0 0 1 0 0 1 1 0 0 0 1 0 0 1 0 0 1 1 1 0 0 1 1 1\n",
            " 0 0 0 0 0 0 0 1 0 0 1 0 1 1 1 1 0 0 1 1 0 1 0 1 1 1 0 1 1 0 0 0 0 1 1 0 0\n",
            " 1 1 0 1 0 0 0 1 0 0 0 1 0 1 0 0 0 0 1 1 0 0 0 0 1 0 0 0 0 1 1 0 0 0 1 1 1\n",
            " 1 1 1 0 1 1 1 1 0 1 0 1 1 0 0 1 0 1 0 0 0 1 1 1 0 1 1 0 1 1 0 1 1 1 1 1 0\n",
            " 0 0 1 1 1 1 1 0 0 0 1 1 0 1 1 0 1 1 0 1 0 0 0 1 1 0 0 0 0 0 0 0 0 0 1 0 1\n",
            " 0 1 1 0 1 0 1 0 0 1 1 1 1 0 1 1 1 0]\n"
          ],
          "name": "stdout"
        }
      ]
    },
    {
      "cell_type": "markdown",
      "metadata": {
        "id": "KGWpgsVXP1ut"
      },
      "source": [
        "**How well did your neural network perform?** \n",
        "\n",
        "CNNs typically perform better than fully-connected neural networks on vision problems, but, as before, they aren't always consistent. They are also sensitive to a number of parameters. "
      ]
    },
    {
      "cell_type": "markdown",
      "metadata": {
        "id": "c-XRh5Y5P_CL"
      },
      "source": [
        "## Training and Validation Curves\n",
        "\n",
        "An important aspect of training neural networks is to prevent overfitting. **How would we recognize overfitting?**\n",
        "\n",
        "In the first line of code below, we first **fit** the model on the training data and pass in some validation (or test) data to evaluate it. We call it the **history** because we want to retain information about the accuracy at each epoch.\n",
        "\n",
        "In the second line we plot the history so that we can compare the training and validation accuracies.  \n",
        "\n",
        "```\n",
        "history = model.fit(inputs_train, labels_train, validation_data=(inputs_test, labels_test))\n",
        "plot_acc(history)\n",
        "```\n",
        "\n"
      ]
    },
    {
      "cell_type": "markdown",
      "metadata": {
        "id": "8eaFvE2PQEFe"
      },
      "source": [
        "###Exercise: Plotting a training vs. validation curve for our CNN ✍️\n",
        "\n",
        "**After how many epochs does the model begin to overfit? How does this vary as you vary the number of hidden layers and dropout?** Overfitting occurs when the validation accuracy starts to drop below the training accuracy."
      ]
    },
    {
      "cell_type": "code",
      "metadata": {
        "id": "OsVAasDbjARJ",
        "colab": {
          "base_uri": "https://localhost:8080/",
          "height": 511
        },
        "outputId": "9cf4264a-bc5a-46d1-ad10-b7c8ea44bbaf"
      },
      "source": [
        "history = cnn.fit(inputs_train, labels_train, validation_data=(inputs_test, labels_test))\n",
        "plot_acc(history)"
      ],
      "execution_count": null,
      "outputs": [
        {
          "output_type": "stream",
          "text": [
            "/usr/local/lib/python3.7/dist-packages/tensorflow/python/keras/optimizer_v2/optimizer_v2.py:375: UserWarning: The `lr` argument is deprecated, use `learning_rate` instead.\n",
            "  \"The `lr` argument is deprecated, use `learning_rate` instead.\")\n"
          ],
          "name": "stderr"
        },
        {
          "output_type": "stream",
          "text": [
            "Epoch 1/5\n",
            "96/96 - 10s - loss: 4.0553 - accuracy: 0.6115 - val_loss: 0.2592 - val_accuracy: 0.8792\n",
            "Epoch 2/5\n",
            "96/96 - 0s - loss: 0.6940 - accuracy: 0.8042 - val_loss: 0.2440 - val_accuracy: 0.9000\n",
            "Epoch 3/5\n",
            "96/96 - 0s - loss: 0.4700 - accuracy: 0.8542 - val_loss: 0.1510 - val_accuracy: 0.9500\n",
            "Epoch 4/5\n",
            "96/96 - 0s - loss: 0.3257 - accuracy: 0.8854 - val_loss: 0.1408 - val_accuracy: 0.9542\n",
            "Epoch 5/5\n",
            "96/96 - 0s - loss: 0.2807 - accuracy: 0.9146 - val_loss: 0.2533 - val_accuracy: 0.9125\n"
          ],
          "name": "stdout"
        },
        {
          "output_type": "display_data",
          "data": {
            "image/png": "[encoded data removed]",
            "text/plain": [
              "<Figure size 432x288 with 1 Axes>"
            ]
          },
          "metadata": {
            "tags": [],
            "needs_background": "light"
          }
        }
      ]
    },
    {
      "cell_type": "markdown",
      "metadata": {
        "id": "76z4NAY6afd7"
      },
      "source": [
        "# Building Neural Networks from Scratch in Keras \n",
        "\n",
        "So far, we've used helper functions which pre-build Keras neural network models. Now, we will build them on our own!\n",
        "\n",
        "Let's build a simple Neural Network that solves a familiar problem: distinguishing between dogs and roads."
      ]
    },
    {
      "cell_type": "markdown",
      "metadata": {
        "id": "jdngkAX_aCVu"
      },
      "source": [
        "###Exercise: Building a simple Neural Network using Keras! ✍️\n",
        "\n"
      ]
    },
    {
      "cell_type": "markdown",
      "metadata": {
        "id": "Bj-Pt3wGCXRu"
      },
      "source": [
        "\n",
        "We're going to build a larger version of this model: \n",
        "\n",
        "![](http://cs231n.github.io/assets/nn1/neural_net.jpeg)"
      ]
    },
    {
      "cell_type": "markdown",
      "metadata": {
        "id": "H-6WGeedvTCS"
      },
      "source": [
        "This network can be described as: \n",
        "* Input Layer: 3072 (32 pixels x 32 pixels x 3 color channels)\n",
        "* Layer 1 (Hidden): 32 neurons that are activated by `'relu'`\n",
        "* Layer 2 (Output): 2 neurons that are activated by `'softmax'`\n",
        "\n",
        "\n",
        "We also want to compile the model with\n",
        "`loss = 'categorical_crossentropy'`\n",
        "\n",
        "Try filling in the blanks below and walking through each line! **If you want a hint or more details, check out the optional reference below.**"
      ]
    },
    {
      "cell_type": "code",
      "metadata": {
        "id": "dp-g9qotbRPU",
        "colab": {
          "base_uri": "https://localhost:8080/"
        },
        "outputId": "0d2b80c0-9396-4833-8b33-cdee76040c31"
      },
      "source": [
        "# Fill in the blanks with your group!\n",
        "### YOUR CODE HERE:\n",
        "model_1 = Sequential()\n",
        "model_1.add(Dense(1, input_shape = (3,), activation = 'relu'))\n",
        "model_1.add(Dense(3, activation = 'relu'))\n",
        "model_1.add(Dense(3, activation = 'softmax'))\n",
        "model_1.compile(loss='categorical_crossentropy',\n",
        "                optimizer = 'adam', \n",
        "                metrics = ['accuracy'])\n",
        "model_1.predict_classes([[1,2,3]])\n",
        "### END CODE"
      ],
      "execution_count": null,
      "outputs": [
        {
          "output_type": "stream",
          "text": [
            "/usr/local/lib/python3.7/dist-packages/keras/engine/sequential.py:450: UserWarning: `model.predict_classes()` is deprecated and will be removed after 2021-01-01. Please use instead:* `np.argmax(model.predict(x), axis=-1)`,   if your model does multi-class classification   (e.g. if it uses a `softmax` last-layer activation).* `(model.predict(x) > 0.5).astype(\"int32\")`,   if your model does binary classification   (e.g. if it uses a `sigmoid` last-layer activation).\n",
            "  warnings.warn('`model.predict_classes()` is deprecated and '\n"
          ],
          "name": "stderr"
        },
        {
          "output_type": "execute_result",
          "data": {
            "text/plain": [
              "array([0])"
            ]
          },
          "metadata": {
            "tags": []
          },
          "execution_count": 37
        }
      ]
    },
    {
      "cell_type": "code",
      "metadata": {
        "colab": {
          "base_uri": "https://localhost:8080/"
        },
        "id": "ZS6Yl2poIOFm",
        "outputId": "3ff7f4cc-572a-4c4b-f951-dc3eab509bb5"
      },
      "source": [
        "model_1.summary()"
      ],
      "execution_count": null,
      "outputs": [
        {
          "output_type": "stream",
          "text": [
            "Model: \"sequential_12\"\n",
            "_________________________________________________________________\n",
            "Layer (type)                 Output Shape              Param #   \n",
            "=================================================================\n",
            "dense_20 (Dense)             (None, 1)                 4         \n",
            "_________________________________________________________________\n",
            "dense_21 (Dense)             (None, 3)                 6         \n",
            "_________________________________________________________________\n",
            "dense_22 (Dense)             (None, 3)                 12        \n",
            "=================================================================\n",
            "Total params: 22\n",
            "Trainable params: 22\n",
            "Non-trainable params: 0\n",
            "_________________________________________________________________\n"
          ],
          "name": "stdout"
        }
      ]
    },
    {
      "cell_type": "markdown",
      "metadata": {
        "id": "781M4IyhssuA"
      },
      "source": [
        "####**Optional Reference**\n",
        "\n",
        "Here's some information about each step of the process. **You don't need to read through all this - check it as a reference if needed!**\n",
        "\n",
        "**1. Specify model**\n",
        "\n",
        "```\n",
        "model = Sequential()\n",
        "```\n",
        "In this line of code, we build our network where the information flows from LEFT to RIGHT through the network in ONE DIRECTION as opposed to multiple directions. Neurons on the right never pass informations to neurons on the left of it. \n",
        "\n",
        "\n",
        "**2. Add layers to the network**\n",
        "```\n",
        "model.add(Dense(32, input_dim=3072, activation = 'relu'))\n",
        "```\n",
        "In this code, we add a layer of neurons to our network. \n",
        "\n",
        "This layer consists of 32 neurons. Each neuron is DENSE and connects to all of the previous layer's inputs and all of the subsequent layer's outputs. We specify that there are 3072 inputs here, one for each color channel.\n",
        "\n",
        "We also specify what kind of output the neuron will give. If you want the neuron to output a number between 0 and 1 (like a probability!) you would use 'softmax' or 'sigmoid'. If you want the neuron to output any number, you can use 'linear'! You'll also often see 'relu', which is when a neuron will only output positive numbers. \n",
        "\n",
        "```\n",
        "model.add(Dense(2, activation = 'softmax'))\n",
        "```\n",
        "This code is our output layer. We specify that it has two neurons (one that gives the probability of the image being a dog and one that gives the probability of the image being a cat). We specify a softmax activation because we want our probabilities to be between 0 and 1.\n",
        "\n",
        "**3. Turn the model on by compiling it** \n",
        "\n",
        "After having built the network, we want to train and use it, so we have to 'compile' it to prepare. We have to specify at the very least: a loss (how the model measures the quality of its weights), an optimizer (which adjusts the weights), and a metric (how to evaluate our results). Here are some common choices:\n",
        "```\n",
        "model.compile(loss='mean_squared_error',\n",
        "optimizer = 'adam',\n",
        "metrics = ['mean_squared_error'])\n",
        "  ```\n",
        "\n",
        "Once we've created our network, we can use it very simply! Just like we did with sklearn, we define our input data (inputs_test), the true predictions from that data (labels_train), and the number of epochs (passes through our entire dataset). We train our model with `fit`. \n",
        "\n",
        "```\n",
        "model.fit(inputs_train, labels_train)\n",
        "```\n",
        "\n",
        "To use the model, you can use it to predict something with:\n",
        "```\n",
        "y = model.predict_classes(x)\n",
        "```\n",
        "\n",
        "You can actually use the model before you even train it! It just won't perform very well. "
      ]
    },
    {
      "cell_type": "markdown",
      "metadata": {
        "id": "YovNRgfuy0Oq"
      },
      "source": [
        "###(Optional) Exercise: Building a multi-layer Neural Net using Keras ✍️\n",
        "\n",
        "Let's try another, bigger example!\n",
        "\n",
        "* Input Layer: 3072 Dimensions\n",
        "\n",
        "* Layer 1: 32 neurons that are activated by `'relu' `and take in 3 inputs.\n",
        "\n",
        "* Layer 2: 16 neurons that are activated by `'relu'`\n",
        "\n",
        "* Layer 3 (out): 2 neurons that is activated by `'sigmoid'`\n",
        "\n",
        "Compile the model with\n",
        "`loss = 'binary_crossentropy'` "
      ]
    },
    {
      "cell_type": "code",
      "metadata": {
        "id": "pm-ylEWqbXrQ"
      },
      "source": [
        ""
      ],
      "execution_count": null,
      "outputs": []
    },
    {
      "cell_type": "markdown",
      "metadata": {
        "id": "QCbD6siv-Ip-"
      },
      "source": [
        "##Exercise: Building a CNN using Keras! ✍️\n",
        "\n",
        "Now that we know how to build simple neural networks in Keras, let's build a CNN that will perform well on our data set of car and road images. \n",
        "\n",
        "Below is Keras code for a CNN. It will run as-is on the conscientious cars dataset. However, the performance is suboptimal. Add more layers and change the neural network hyperparameters so that the performance will be better. **Can you get the train and validation accuracy to both be higher than 90%?**\n",
        "\n",
        "The Keras core layer API may be a useful reference: https://keras.io/layers/core/ \n",
        "\n",
        "In particular and in addition to adding more of the existing convolutional layers and activations, consider using the following layers after a convolution + activation:\n",
        "\n",
        "`Dropout(N)`\n",
        "\n",
        "`MaxPooling2D(pool_size=(N, N))`\n"
      ]
    },
    {
      "cell_type": "code",
      "metadata": {
        "id": "LFVHyPKn-V4N",
        "colab": {
          "base_uri": "https://localhost:8080/",
          "height": 1000
        },
        "outputId": "19818e17-9cfc-48dc-f858-4769b2672829"
      },
      "source": [
        "model = Sequential()\n",
        "model.add(Reshape((32, 32, 3)))\n",
        "\n",
        "model.add(Conv2D(32, (3, 3), padding='same'))\n",
        "model.add(Activation('relu'))\n",
        "model.add(MaxPooling2D(pool_size=(2, 2)))\n",
        "\n",
        "###\n",
        "###\n",
        "### TODO: ADD MORE LAYERS HERE!!!!!\n",
        "###\n",
        "###\n",
        "\n",
        "model.add(Flatten())\n",
        "model.add(Dense(512))\n",
        "model.add(Activation('relu'))\n",
        "model.add(Dense(2))\n",
        "model.add(Activation('softmax'))\n",
        "\n",
        "# initiate RMSprop optimizer\n",
        "opt = keras.optimizers.RMSprop(lr=0.0001, decay=1e-6)\n",
        "\n",
        "# Let's train the model using RMSprop\n",
        "model.compile(loss='categorical_crossentropy',\n",
        "              optimizer=opt,\n",
        "              metrics=['accuracy'])\n",
        "\n",
        "# Train the CNN and plot accuracy.\n",
        "history = model.fit(inputs_train, labels_train, \\\n",
        "                    validation_data=(inputs_test, labels_test), \\\n",
        "                    epochs=70)\n",
        "plot_acc(history)\n"
      ],
      "execution_count": null,
      "outputs": [
        {
          "output_type": "stream",
          "text": [
            "/usr/local/lib/python3.7/dist-packages/tensorflow/python/keras/optimizer_v2/optimizer_v2.py:375: UserWarning: The `lr` argument is deprecated, use `learning_rate` instead.\n",
            "  \"The `lr` argument is deprecated, use `learning_rate` instead.\")\n"
          ],
          "name": "stderr"
        },
        {
          "output_type": "stream",
          "text": [
            "Epoch 1/70\n",
            "30/30 [==============================] - 2s 26ms/step - loss: 126.6338 - accuracy: 0.5661 - val_loss: 49.4097 - val_accuracy: 0.5750\n",
            "Epoch 2/70\n",
            "30/30 [==============================] - 0s 6ms/step - loss: 23.1870 - accuracy: 0.7226 - val_loss: 16.8125 - val_accuracy: 0.7542\n",
            "Epoch 3/70\n",
            "30/30 [==============================] - 0s 6ms/step - loss: 12.4099 - accuracy: 0.8138 - val_loss: 2.4527 - val_accuracy: 0.9125\n",
            "Epoch 4/70\n",
            "30/30 [==============================] - 0s 6ms/step - loss: 7.9214 - accuracy: 0.8759 - val_loss: 3.6785 - val_accuracy: 0.9125\n",
            "Epoch 5/70\n",
            "30/30 [==============================] - 0s 6ms/step - loss: 8.1133 - accuracy: 0.8509 - val_loss: 2.3995 - val_accuracy: 0.9292\n",
            "Epoch 6/70\n",
            "30/30 [==============================] - 0s 6ms/step - loss: 3.9754 - accuracy: 0.9226 - val_loss: 2.3726 - val_accuracy: 0.9167\n",
            "Epoch 7/70\n",
            "30/30 [==============================] - 0s 6ms/step - loss: 3.7229 - accuracy: 0.9011 - val_loss: 7.0817 - val_accuracy: 0.8000\n",
            "Epoch 8/70\n",
            "30/30 [==============================] - 0s 5ms/step - loss: 9.8867 - accuracy: 0.8405 - val_loss: 2.6868 - val_accuracy: 0.9292\n",
            "Epoch 9/70\n",
            "30/30 [==============================] - 0s 6ms/step - loss: 3.1123 - accuracy: 0.9149 - val_loss: 1.4980 - val_accuracy: 0.9375\n",
            "Epoch 10/70\n",
            "30/30 [==============================] - 0s 5ms/step - loss: 2.6102 - accuracy: 0.9292 - val_loss: 0.8619 - val_accuracy: 0.9542\n",
            "Epoch 11/70\n",
            "30/30 [==============================] - 0s 5ms/step - loss: 2.1814 - accuracy: 0.9164 - val_loss: 1.0966 - val_accuracy: 0.9500\n",
            "Epoch 12/70\n",
            "30/30 [==============================] - 0s 5ms/step - loss: 1.5250 - accuracy: 0.9341 - val_loss: 1.1809 - val_accuracy: 0.9542\n",
            "Epoch 13/70\n",
            "30/30 [==============================] - 0s 5ms/step - loss: 2.4727 - accuracy: 0.9063 - val_loss: 1.0563 - val_accuracy: 0.9458\n",
            "Epoch 14/70\n",
            "30/30 [==============================] - 0s 5ms/step - loss: 2.1330 - accuracy: 0.9444 - val_loss: 0.9535 - val_accuracy: 0.9583\n",
            "Epoch 15/70\n",
            "30/30 [==============================] - 0s 6ms/step - loss: 1.0433 - accuracy: 0.9634 - val_loss: 0.9057 - val_accuracy: 0.9458\n",
            "Epoch 16/70\n",
            "30/30 [==============================] - 0s 5ms/step - loss: 0.8640 - accuracy: 0.9618 - val_loss: 1.0631 - val_accuracy: 0.9417\n",
            "Epoch 17/70\n",
            "30/30 [==============================] - 0s 5ms/step - loss: 0.3221 - accuracy: 0.9842 - val_loss: 0.8223 - val_accuracy: 0.9500\n",
            "Epoch 18/70\n",
            "30/30 [==============================] - 0s 6ms/step - loss: 0.4158 - accuracy: 0.9726 - val_loss: 0.8962 - val_accuracy: 0.9583\n",
            "Epoch 19/70\n",
            "30/30 [==============================] - 0s 5ms/step - loss: 0.3283 - accuracy: 0.9751 - val_loss: 1.2330 - val_accuracy: 0.9333\n",
            "Epoch 20/70\n",
            "30/30 [==============================] - 0s 5ms/step - loss: 0.0818 - accuracy: 0.9898 - val_loss: 0.9286 - val_accuracy: 0.9375\n",
            "Epoch 21/70\n",
            "30/30 [==============================] - 0s 6ms/step - loss: 0.4076 - accuracy: 0.9795 - val_loss: 1.1197 - val_accuracy: 0.9500\n",
            "Epoch 22/70\n",
            "30/30 [==============================] - 0s 6ms/step - loss: 0.1394 - accuracy: 0.9838 - val_loss: 0.8999 - val_accuracy: 0.9500\n",
            "Epoch 23/70\n",
            "30/30 [==============================] - 0s 5ms/step - loss: 0.4005 - accuracy: 0.9820 - val_loss: 1.0470 - val_accuracy: 0.9458\n",
            "Epoch 24/70\n",
            "30/30 [==============================] - 0s 5ms/step - loss: 0.2565 - accuracy: 0.9824 - val_loss: 0.8403 - val_accuracy: 0.9458\n",
            "Epoch 25/70\n",
            "30/30 [==============================] - 0s 5ms/step - loss: 0.0275 - accuracy: 0.9958 - val_loss: 0.7725 - val_accuracy: 0.9542\n",
            "Epoch 26/70\n",
            "30/30 [==============================] - 0s 6ms/step - loss: 0.1195 - accuracy: 0.9970 - val_loss: 1.1141 - val_accuracy: 0.9542\n",
            "Epoch 27/70\n",
            "30/30 [==============================] - 0s 6ms/step - loss: 0.1742 - accuracy: 0.9871 - val_loss: 0.8603 - val_accuracy: 0.9542\n",
            "Epoch 28/70\n",
            "30/30 [==============================] - 0s 5ms/step - loss: 0.2252 - accuracy: 0.9856 - val_loss: 0.8639 - val_accuracy: 0.9417\n",
            "Epoch 29/70\n",
            "30/30 [==============================] - 0s 5ms/step - loss: 8.2971e-06 - accuracy: 1.0000 - val_loss: 0.8748 - val_accuracy: 0.9417\n",
            "Epoch 30/70\n",
            "30/30 [==============================] - 0s 5ms/step - loss: 0.9352 - accuracy: 0.9634 - val_loss: 1.2144 - val_accuracy: 0.9500\n",
            "Epoch 31/70\n",
            "30/30 [==============================] - 0s 5ms/step - loss: 0.1980 - accuracy: 0.9813 - val_loss: 1.2007 - val_accuracy: 0.9500\n",
            "Epoch 32/70\n",
            "30/30 [==============================] - 0s 6ms/step - loss: 0.1392 - accuracy: 0.9872 - val_loss: 1.2292 - val_accuracy: 0.9458\n",
            "Epoch 33/70\n",
            "30/30 [==============================] - 0s 5ms/step - loss: 0.0517 - accuracy: 0.9922 - val_loss: 1.1625 - val_accuracy: 0.9458\n",
            "Epoch 34/70\n",
            "30/30 [==============================] - 0s 5ms/step - loss: 0.0333 - accuracy: 0.9969 - val_loss: 1.0826 - val_accuracy: 0.9417\n",
            "Epoch 35/70\n",
            "30/30 [==============================] - 0s 5ms/step - loss: 0.1788 - accuracy: 0.9802 - val_loss: 1.7716 - val_accuracy: 0.9000\n",
            "Epoch 36/70\n",
            "30/30 [==============================] - 0s 5ms/step - loss: 0.1585 - accuracy: 0.9793 - val_loss: 1.1677 - val_accuracy: 0.9500\n",
            "Epoch 37/70\n",
            "30/30 [==============================] - 0s 5ms/step - loss: 1.6574e-05 - accuracy: 1.0000 - val_loss: 1.2538 - val_accuracy: 0.9542\n",
            "Epoch 38/70\n",
            "30/30 [==============================] - 0s 5ms/step - loss: 2.1112e-06 - accuracy: 1.0000 - val_loss: 1.1896 - val_accuracy: 0.9542\n",
            "Epoch 39/70\n",
            "30/30 [==============================] - 0s 6ms/step - loss: 4.4161e-08 - accuracy: 1.0000 - val_loss: 1.1809 - val_accuracy: 0.9542\n",
            "Epoch 40/70\n",
            "30/30 [==============================] - 0s 5ms/step - loss: 1.0713e-07 - accuracy: 1.0000 - val_loss: 1.1773 - val_accuracy: 0.9542\n",
            "Epoch 41/70\n",
            "30/30 [==============================] - 0s 5ms/step - loss: 2.1051e-07 - accuracy: 1.0000 - val_loss: 8.6940 - val_accuracy: 0.7292\n",
            "Epoch 42/70\n",
            "30/30 [==============================] - 0s 5ms/step - loss: 0.6206 - accuracy: 0.9736 - val_loss: 1.2684 - val_accuracy: 0.9375\n",
            "Epoch 43/70\n",
            "30/30 [==============================] - 0s 6ms/step - loss: 3.5743e-08 - accuracy: 1.0000 - val_loss: 1.2872 - val_accuracy: 0.9375\n",
            "Epoch 44/70\n",
            "30/30 [==============================] - 0s 5ms/step - loss: 6.4046e-08 - accuracy: 1.0000 - val_loss: 1.2875 - val_accuracy: 0.9375\n",
            "Epoch 45/70\n",
            "30/30 [==============================] - 0s 6ms/step - loss: 6.3110e-09 - accuracy: 1.0000 - val_loss: 1.3005 - val_accuracy: 0.9375\n",
            "Epoch 46/70\n",
            "30/30 [==============================] - 0s 5ms/step - loss: 1.8423e-08 - accuracy: 1.0000 - val_loss: 1.2979 - val_accuracy: 0.9375\n",
            "Epoch 47/70\n",
            "30/30 [==============================] - 0s 6ms/step - loss: 2.6706e-08 - accuracy: 1.0000 - val_loss: 1.2960 - val_accuracy: 0.9417\n",
            "Epoch 48/70\n",
            "30/30 [==============================] - 0s 5ms/step - loss: 1.5968e-09 - accuracy: 1.0000 - val_loss: 1.2977 - val_accuracy: 0.9417\n",
            "Epoch 49/70\n",
            "30/30 [==============================] - 0s 5ms/step - loss: 1.5787e-09 - accuracy: 1.0000 - val_loss: 1.3017 - val_accuracy: 0.9375\n",
            "Epoch 50/70\n",
            "30/30 [==============================] - 0s 6ms/step - loss: 2.1490e-09 - accuracy: 1.0000 - val_loss: 1.2929 - val_accuracy: 0.9375\n",
            "Epoch 51/70\n",
            "30/30 [==============================] - 0s 6ms/step - loss: 1.2155e-11 - accuracy: 1.0000 - val_loss: 1.3122 - val_accuracy: 0.9458\n",
            "Epoch 52/70\n",
            "30/30 [==============================] - 0s 5ms/step - loss: 9.1063e-10 - accuracy: 1.0000 - val_loss: 1.2662 - val_accuracy: 0.9417\n",
            "Epoch 53/70\n",
            "30/30 [==============================] - 0s 5ms/step - loss: 3.0890e-10 - accuracy: 1.0000 - val_loss: 1.3139 - val_accuracy: 0.9500\n",
            "Epoch 54/70\n",
            "30/30 [==============================] - 0s 5ms/step - loss: 5.0729e-10 - accuracy: 1.0000 - val_loss: 1.2596 - val_accuracy: 0.9417\n",
            "Epoch 55/70\n",
            "30/30 [==============================] - 0s 5ms/step - loss: 6.2856e-10 - accuracy: 1.0000 - val_loss: 1.2589 - val_accuracy: 0.9417\n",
            "Epoch 56/70\n",
            "30/30 [==============================] - 0s 5ms/step - loss: 2.6377e-10 - accuracy: 1.0000 - val_loss: 1.2934 - val_accuracy: 0.9417\n",
            "Epoch 57/70\n",
            "30/30 [==============================] - 0s 5ms/step - loss: 0.0000e+00 - accuracy: 1.0000 - val_loss: 1.3025 - val_accuracy: 0.9417\n",
            "Epoch 58/70\n",
            "30/30 [==============================] - 0s 6ms/step - loss: 0.0000e+00 - accuracy: 1.0000 - val_loss: 1.2878 - val_accuracy: 0.9417\n",
            "Epoch 59/70\n",
            "30/30 [==============================] - 0s 5ms/step - loss: 0.0000e+00 - accuracy: 1.0000 - val_loss: 1.2864 - val_accuracy: 0.9417\n",
            "Epoch 60/70\n",
            "30/30 [==============================] - 0s 5ms/step - loss: 0.0000e+00 - accuracy: 1.0000 - val_loss: 1.2950 - val_accuracy: 0.9417\n",
            "Epoch 61/70\n",
            "30/30 [==============================] - 0s 5ms/step - loss: 0.0000e+00 - accuracy: 1.0000 - val_loss: 1.2912 - val_accuracy: 0.9417\n",
            "Epoch 62/70\n",
            "30/30 [==============================] - 0s 6ms/step - loss: 0.0000e+00 - accuracy: 1.0000 - val_loss: 1.2846 - val_accuracy: 0.9417\n",
            "Epoch 63/70\n",
            "30/30 [==============================] - 0s 5ms/step - loss: 0.0000e+00 - accuracy: 1.0000 - val_loss: 1.2877 - val_accuracy: 0.9417\n",
            "Epoch 64/70\n",
            "30/30 [==============================] - 0s 7ms/step - loss: 0.0000e+00 - accuracy: 1.0000 - val_loss: 1.2882 - val_accuracy: 0.9417\n",
            "Epoch 65/70\n",
            "30/30 [==============================] - 0s 5ms/step - loss: 0.0000e+00 - accuracy: 1.0000 - val_loss: 1.2817 - val_accuracy: 0.9417\n",
            "Epoch 66/70\n",
            "30/30 [==============================] - 0s 5ms/step - loss: 0.0000e+00 - accuracy: 1.0000 - val_loss: 1.2832 - val_accuracy: 0.9417\n",
            "Epoch 67/70\n",
            "30/30 [==============================] - 0s 5ms/step - loss: 0.0000e+00 - accuracy: 1.0000 - val_loss: 1.2843 - val_accuracy: 0.9417\n",
            "Epoch 68/70\n",
            "30/30 [==============================] - 0s 5ms/step - loss: 0.0000e+00 - accuracy: 1.0000 - val_loss: 1.2795 - val_accuracy: 0.9417\n",
            "Epoch 69/70\n",
            "30/30 [==============================] - 0s 6ms/step - loss: 0.0000e+00 - accuracy: 1.0000 - val_loss: 1.2820 - val_accuracy: 0.9417\n",
            "Epoch 70/70\n",
            "30/30 [==============================] - 0s 6ms/step - loss: 0.0000e+00 - accuracy: 1.0000 - val_loss: 1.2807 - val_accuracy: 0.9417\n"
          ],
          "name": "stdout"
        },
        {
          "output_type": "display_data",
          "data": {
            "image/png": "[encoded data removed]",
            "text/plain": [
              "<Figure size 432x288 with 1 Axes>"
            ]
          },
          "metadata": {
            "tags": [],
            "needs_background": "light"
          }
        }
      ]
    },
    {
      "cell_type": "markdown",
      "metadata": {
        "id": "9JFLu0CdXM6K"
      },
      "source": [
        "**What interesting observations** do you make from the graph? How many epochs should you train for?\n",
        "\n",
        "We can also print out the structure of our model. What do the parts of the summary mean?"
      ]
    },
    {
      "cell_type": "code",
      "metadata": {
        "id": "RGwXs3C8YZl-"
      },
      "source": [
        "model.summary()"
      ],
      "execution_count": null,
      "outputs": []
    },
    {
      "cell_type": "markdown",
      "metadata": {
        "id": "YXINPAJvRr9W"
      },
      "source": [
        "#Advanced: Cats vs. Dogs with CNN\n",
        "\n",
        "So far, we've trained a CNN to distinguish between small images of cats and small images of dogs. It's more challenging and time-consuming to train CNNs for bigger images or harder tasks, like distinguishing dogs from cats (which look a lot more like dogs than roads do!)\n",
        "\n",
        "In this exercise, you'll adapt your previous model to classify large images of dogs vs. cats, and then try implementing a famous CNN architecture. Along the way, you'll deal with some of the debugging that machine learning engineers often have to handle."
      ]
    },
    {
      "cell_type": "code",
      "metadata": {
        "id": "6gU39z3jNMAt"
      },
      "source": [
        "#@title Run this to load cat and dog data. { display-mode: \"form\" }\n",
        "\n",
        "#Code here from https://colab.research.google.com/github/google/eng-edu/blob/master/ml/pc/exercises/image_classification_part1.ipynb#scrollTo=4PIP1rkmeAYS\n",
        "\n",
        "import tensorflow as tf\n",
        "import os \n",
        "from tensorflow.keras.preprocessing.image import ImageDataGenerator\n",
        "from google.colab.patches import cv2_imshow\n",
        "import cv2\n",
        "import matplotlib.pyplot as plt\n",
        "\n",
        "try:\n",
        "  road_model = model\n",
        "  road_saved = True\n",
        "except NameError:\n",
        "  road_saved = False\n",
        "\n",
        "IMG_SHAPE  = 150  # Our training data consists of images with width of 150 pixels and height of 150 pixels\n",
        "_URL = 'https://storage.googleapis.com/mledu-datasets/cats_and_dogs_filtered.zip'\n",
        "zip_dir = tf.keras.utils.get_file('cats_and_dogs_filterted.zip', origin=_URL, extract=True)\n",
        "base_dir = os.path.join(os.path.dirname(zip_dir), 'cats_and_dogs_filtered')\n",
        "train_dir = os.path.join(base_dir, 'train')\n",
        "validation_dir = os.path.join(base_dir, 'validation')\n",
        "\n",
        "train_cats_dir = os.path.join(train_dir, 'cats')  # directory with our training cat pictures\n",
        "train_dogs_dir = os.path.join(train_dir, 'dogs')  # directory with our training dog pictures\n",
        "validation_cats_dir = os.path.join(validation_dir, 'cats')  # directory with our validation cat pictures\n",
        "validation_dogs_dir = os.path.join(validation_dir, 'dogs')  # directory with our validation dog pictures\n",
        "train_image_generator      = ImageDataGenerator()  # Generator for our training data\n",
        "validation_image_generator = ImageDataGenerator()  # Generator for our validation data\n",
        "train_data = train_image_generator.flow_from_directory(batch_size=2000,\n",
        "                                                           directory=train_dir,\n",
        "                                                           shuffle=True,\n",
        "                                                           target_size=(IMG_SHAPE,IMG_SHAPE), #(150,150)\n",
        "                                                           class_mode='binary').next()\n",
        "val_data = validation_image_generator.flow_from_directory(batch_size=1000,\n",
        "                                                              directory=validation_dir,\n",
        "                                                              shuffle=False,\n",
        "                                                              target_size=(IMG_SHAPE,IMG_SHAPE), #(150,150)\n",
        "\n",
        "                                                              class_mode='binary').next()\n",
        "cd_train_inputs, cd_train_labels = train_data\n",
        "cd_test_inputs, cd_test_labels = val_data"
      ],
      "execution_count": null,
      "outputs": []
    },
    {
      "cell_type": "markdown",
      "metadata": {
        "id": "1y5etOJwScaG"
      },
      "source": [
        "**Run the code below to see the dimensions of our training and validation data. What does each number mean? What is different than our previous dataset?** "
      ]
    },
    {
      "cell_type": "code",
      "metadata": {
        "id": "kjdedJ0VNvWg"
      },
      "source": [
        "print (cd_train_inputs.shape) \n",
        "print (cd_train_labels.shape) \n",
        "print (cd_test_inputs.shape) \n",
        "print (cd_test_labels.shape) "
      ],
      "execution_count": null,
      "outputs": []
    },
    {
      "cell_type": "markdown",
      "metadata": {
        "id": "qIAkgOqWTAL7"
      },
      "source": [
        "**Run this code to see a random image from our training data (different each time).**"
      ]
    },
    {
      "cell_type": "code",
      "metadata": {
        "id": "HooiJ-RrQPcA"
      },
      "source": [
        "index = np.random.randint(len(cd_train_inputs))\n",
        "plt.imshow(cd_train_inputs[index]/255)\n",
        "plt.show()\n",
        "print(\"Label:\",cd_train_labels[index])"
      ],
      "execution_count": null,
      "outputs": []
    },
    {
      "cell_type": "markdown",
      "metadata": {
        "id": "HOwP9kX9UshH"
      },
      "source": [
        "**By adapting code from the previous exercise, build, train, and test a CNN to classify cats vs. dogs.**\n",
        "**Hints:**\n",
        "*   Use print(model.summary()) for a useful visualization of your model's architecture. Compare the summary of your cat/road and cat/dog classifiers.\n",
        "*  Substitute the names of the new datasets.\n",
        "*  Get a \"first try\" working by making small adjustments to a previous model before trying to optimize the accuracy. You can temporarily comment out layers as you figure things out.\n",
        "*  The outputs have different shapes betweeen the two datasets. What do you need to change? (You will get an ValueError that suggests how to transform the output to a one-hot encoding.) \n",
        "*  If you run out of memory, restart the notebook and/or use your knowledge of convolution arithmetic to reduce the size of an intermediate output (see [Keras documentation](https://www.tensorflow.org/api_docs/python/tf/keras/layers/Conv2D)).\n",
        "* Dropout layers help reduce overfitting.\n"
      ]
    },
    {
      "cell_type": "code",
      "metadata": {
        "id": "AeuqlzigZZ8I"
      },
      "source": [
        "model = Sequential()\n",
        "#TODO: Your code here to build, train, and test a cats vs. dogs CNN!\n",
        "#If you run into errors, see the hints above for help debugging! \n",
        "#\n",
        "#\n"
      ],
      "execution_count": null,
      "outputs": []
    },
    {
      "cell_type": "markdown",
      "metadata": {
        "id": "m6sFSGEqjPwe"
      },
      "source": [
        "#Advanced Challenge: Implementing a Famous Architecture for Cats vs. Dogs\n",
        "\n",
        "Having trouble designing an effective architecture? Try implementing a version of AlexNet, one of the most famous CNNs for image convolution ever. You can find this image and other useful information on this network [here](https://towardsdatascience.com/the-w3h-of-alexnet-vggnet-resnet-and-inception-7baaaecccc96).\n",
        "\n",
        "![](https://lh4.googleusercontent.com/gFAxn9Z-Y1lgkNy2GfsqjXy1DvSuYF8rvP3CslRvmuoP5SUaJMrEOr24YShU_LwalLpYNJFwpJgcDh9whk9XrMOGQ1ADQ9FY_0saicCVH0jsNPDKOYBcTG4YhbqpbPolW4hZSdUsDQ)\n",
        "\n",
        "How do we read this diagram?\n",
        "\n",
        "On the left side, we start with images of dimension 227x227x3 (RGB). We apply a filter composed of 96 kernels of size 11x11, with stride size 4. We end up with data of dimension 55x55x96. We pass through multiple layers of convolution and max pooling as shown, before ending with three dense (fully connected) layers.\n",
        "\n",
        "Not shown: each layer uses ReLU activation, and we include dropout before the first two dense layers. Make sure to include those!\n",
        "\n",
        "You'll want to adjust some of these dimensions, for a few reasons: we're starting with 150x150 rather than 227x227 images, ending with 2 labels rather than 1000, and have limited data and memory. Use your knowledge of convolution arithmetic (see CNN slides) and the [Keras documentation](https://www.tensorflow.org/api_docs/python/tf/keras/layers/Conv2D) to change the stride, kernel, and/or padding.\n",
        "\n",
        "Use model.summary() to understand the dimensions of your data at each step. To speed things up as you're building, you can set the number of epochs to 1."
      ]
    },
    {
      "cell_type": "code",
      "metadata": {
        "id": "8FHg8YTGtQ2t"
      },
      "source": [
        "model = Sequential()\n",
        "#TODO: Your code to run, train, and test AlexNet here:\n"
      ],
      "execution_count": null,
      "outputs": []
    },
    {
      "cell_type": "markdown",
      "metadata": {
        "id": "PlF308hDjwyC"
      },
      "source": [
        "You might find that even AlexNet isn't working that well for you!\n",
        "\n",
        "This is because having a good architecture is only half the battle: AlexNet is a complex model designed to learn from millions of images. We're using a small dataset of only 2000 training images, so it's not surprising that our results aren't great. Our model is overfitting: essentially memorizing the few training images, rather than really learning the difference between a cat and a dog. (The advantage is that our model trains quickly.)\n",
        "\n",
        "To get really good performance, we need more data. If we can't find more, we could use *data augmentation*: inventing new training data by transforming our existing images. You can read more about it at https://blog.keras.io/building-powerful-image-classification-models-using-very-little-data.html."
      ]
    },
    {
      "cell_type": "markdown",
      "metadata": {
        "id": "RVzEpI_xWpE5"
      },
      "source": [
        "![](https://images.pexels.com/photos/316/black-and-white-animal-dog-pet.jpg?auto=compress&cs=tinysrgb&dpr=2&h=650&w=940)"
      ]
    }
  ]
}